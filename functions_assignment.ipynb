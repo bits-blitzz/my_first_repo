{
 "cells": [
  {
   "cell_type": "markdown",
   "id": "d53273ba-0c1d-4de3-83c5-bc9ef1bc72f9",
   "metadata": {},
   "source": [
    "# FUNCTIONS ASSIGNMENT "
   ]
  },
  {
   "cell_type": "markdown",
   "id": "ad21e0ee-ddf4-48b0-9fd7-99bab86576a8",
   "metadata": {},
   "source": [
    "### Q1. What is the difference between a function and a method in Python?"
   ]
  },
  {
   "cell_type": "markdown",
   "id": "16d055af-32c4-44b7-8322-86d8686f4efa",
   "metadata": {},
   "source": [
    "Functions : A Function is a block of code which are reusable. Suppose a task is to be done many a times, we can define a function\n",
    "            for that specific task once and call it again and again whenever needed.\n",
    "            For ex : if we have to sum two numbers, we will have to always define variable then do the addition,\n",
    "            instead what we can do is simply define a function once and we can call this function whenver needed."
   ]
  },
  {
   "cell_type": "code",
   "execution_count": 43,
   "id": "3afd218d-fab8-4a76-89ce-14e27dce6004",
   "metadata": {},
   "outputs": [
    {
     "name": "stdout",
     "output_type": "stream",
     "text": [
      "5\n",
      "8\n"
     ]
    }
   ],
   "source": [
    "# for eg : \n",
    "def sum1(a,b):\n",
    "    return a+b\n",
    "\n",
    "print(sum(2,3))\n",
    "print(sum(3,5))\n"
   ]
  },
  {
   "cell_type": "markdown",
   "id": "64908372-1cd0-4e5f-8faa-9f64dc858405",
   "metadata": {},
   "source": [
    "Methods : The functions which are defined inside a class are called methods."
   ]
  },
  {
   "cell_type": "code",
   "execution_count": 6,
   "id": "8996ec08-2d75-4d4d-a808-a4ca225ff8c9",
   "metadata": {},
   "outputs": [
    {
     "name": "stdout",
     "output_type": "stream",
     "text": [
      "Hello, Bob!\n"
     ]
    }
   ],
   "source": [
    "class Person:\n",
    "  def __init__(self, name):\n",
    "    self.name = name\n",
    "\n",
    "  def greet(self): #here we can see the function is defined inside a class Person so it called a method\n",
    "    print(\"Hello, \" + self.name + \"!\")\n",
    "\n",
    "# Creating an object and using the method\n",
    "person = Person(\"Bob\")\n",
    "person.greet()"
   ]
  },
  {
   "cell_type": "markdown",
   "id": "5cd2b227-1b4b-46d5-8bb1-646ae2dda828",
   "metadata": {},
   "source": [
    "So, Functions and Methods are same , just when a function is defined in any class it is called as methods.\n",
    "A function is called by it's name but a method is generally called upon a object i.e an instance of a class\n",
    "\n",
    "We can see in the examples above \n",
    "1. sum is a function and it is called as sum(2,3)\n",
    "2. but a method is called upon a object person --> person.greet()"
   ]
  },
  {
   "cell_type": "markdown",
   "id": "81522ab9-8a3a-429e-9ede-f8a5edb95744",
   "metadata": {},
   "source": [
    "### Q2.  Explain the concept of function arguments and parameters in Python.\r\n",
    "\r"
   ]
  },
  {
   "cell_type": "markdown",
   "id": "a0d7546f-64b4-4194-8be5-ba5ff22a1260",
   "metadata": {},
   "source": [
    "Function Parameters: The variable listed within parathesis while defining a function is called parameters. They are the placeholders \n",
    "                     for the values that will be passed when the function will be called\n",
    "\n",
    "Function Arguments: The value we pass in a function while calling the function is called arguments."
   ]
  },
  {
   "cell_type": "code",
   "execution_count": 9,
   "id": "e8f63fe1-80a2-467d-90cf-2a1b675f0c0c",
   "metadata": {},
   "outputs": [
    {
     "data": {
      "text/plain": [
       "'Hello,Akash ! How are you?'"
      ]
     },
     "execution_count": 9,
     "metadata": {},
     "output_type": "execute_result"
    }
   ],
   "source": [
    "#Eg : Function Parameter :\n",
    "\n",
    "def hello(name):  # <----- Here the name variable we assigned within function is parameter\n",
    "    return f\"Hello,{name} ! How are you?\"\n",
    "\n",
    "# Function Argument :\n",
    "hello(\"Akash\")  # <----- Here the value \"Akash\" we passed within function is called argument\n",
    "    "
   ]
  },
  {
   "cell_type": "markdown",
   "id": "07fda6fe-35b9-48f1-ae46-5a1470cbf943",
   "metadata": {},
   "source": [
    "### Q3. What are the different ways to define and call a function in Python?"
   ]
  },
  {
   "cell_type": "markdown",
   "id": "63d5473a-b6ad-479a-8ec2-cfc43df10e57",
   "metadata": {},
   "source": [
    "Following are the different ways to define and call a function in python:\n",
    "\n",
    "1. Basic defining a function with syntax and calling "
   ]
  },
  {
   "cell_type": "code",
   "execution_count": 11,
   "id": "96616227-7de9-47d6-bdb4-b5473756ffbb",
   "metadata": {},
   "outputs": [
    {
     "name": "stdout",
     "output_type": "stream",
     "text": [
      "Hello Sir ! I'm a simple function\n"
     ]
    }
   ],
   "source": [
    "#Defining\n",
    "def hello():\n",
    "    print(\"Hello Sir ! I'm a simple function\")\n",
    "\n",
    "# Calling\n",
    "hello()\n",
    "          "
   ]
  },
  {
   "cell_type": "markdown",
   "id": "a6a5dd76-dd34-4e96-96d0-0de761148eba",
   "metadata": {},
   "source": [
    "2. Defining and calling a function with arguments"
   ]
  },
  {
   "cell_type": "code",
   "execution_count": 42,
   "id": "c9ec4828-6311-48d1-885b-35d8b39a1f89",
   "metadata": {},
   "outputs": [
    {
     "name": "stdout",
     "output_type": "stream",
     "text": [
      "6\n"
     ]
    }
   ],
   "source": [
    "#defining \n",
    "def product(a,b):\n",
    "    print(a*b)\n",
    "\n",
    "#calling\n",
    "product(2,3)"
   ]
  },
  {
   "cell_type": "markdown",
   "id": "145bc187-a0be-4267-b3eb-a89911f13867",
   "metadata": {},
   "source": [
    "3. Using return statement "
   ]
  },
  {
   "cell_type": "code",
   "execution_count": 41,
   "id": "67d9fe0f-a01d-458f-a867-9bf35c3f1259",
   "metadata": {},
   "outputs": [
    {
     "name": "stdout",
     "output_type": "stream",
     "text": [
      "Hello Ajay You are welcomed\n"
     ]
    }
   ],
   "source": [
    "#defining :\n",
    "def greeting(name):\n",
    "    return name\n",
    "#calling and storing in a variable\n",
    "result=greeting(\"Ajay\")\n",
    "print(\"Hello\",result,\"You are welcomed\")"
   ]
  },
  {
   "cell_type": "markdown",
   "id": "ebaffde7-ec44-4d4f-a01d-4df92c007629",
   "metadata": {},
   "source": [
    "4. Using Default Parameters"
   ]
  },
  {
   "cell_type": "code",
   "execution_count": 40,
   "id": "1fb6de13-c984-45b2-8e05-731af8ca071c",
   "metadata": {},
   "outputs": [
    {
     "data": {
      "text/plain": [
       "8"
      ]
     },
     "execution_count": 40,
     "metadata": {},
     "output_type": "execute_result"
    }
   ],
   "source": [
    "#defining \n",
    "def sum2(x,y=5):\n",
    "    return x+y\n",
    "\n",
    "#calling \n",
    "sum(3)\n",
    "#here we can see we passed only one argument , so sum function took value of other variable i.e y as default 5 and hence 5+3=8"
   ]
  },
  {
   "cell_type": "markdown",
   "id": "c73334be-003f-46d0-9a7c-9afee5c39294",
   "metadata": {},
   "source": [
    "5.Using Variable length arguments : Here we can pass n number of arguments"
   ]
  },
  {
   "cell_type": "code",
   "execution_count": 57,
   "id": "e10fe5d3-b89f-4c75-b3a2-888793484156",
   "metadata": {},
   "outputs": [
    {
     "name": "stdout",
     "output_type": "stream",
     "text": [
      "14\n",
      "5\n",
      "2\n"
     ]
    }
   ],
   "source": [
    "#defining \n",
    "def summation(*a):\n",
    "    s=0\n",
    "    for i in a:\n",
    "        s=s+i\n",
    "    return s\n",
    "\n",
    "#calling\n",
    "print(summation(2,3,4,5))\n",
    "print(summation(2,3))\n",
    "print(summation(2))"
   ]
  },
  {
   "cell_type": "markdown",
   "id": "2edb5347-08cc-4870-ad06-6ffa92e2bcf2",
   "metadata": {},
   "source": [
    "6. Lambda Function"
   ]
  },
  {
   "cell_type": "code",
   "execution_count": 59,
   "id": "cda323f4-f0a7-4530-a3c8-1d5c9ca503b4",
   "metadata": {},
   "outputs": [
    {
     "data": {
      "text/plain": [
       "25"
      ]
     },
     "execution_count": 59,
     "metadata": {},
     "output_type": "execute_result"
    }
   ],
   "source": [
    "#defining\n",
    "result=lambda x : x*x\n",
    "\n",
    "#calling\n",
    "result(5)"
   ]
  },
  {
   "cell_type": "markdown",
   "id": "a97aad69-b88d-4c26-83cd-becf2b0b66dc",
   "metadata": {},
   "source": [
    "#### Q4.  What is the purpose of the return statement in a Python function?"
   ]
  },
  {
   "cell_type": "markdown",
   "id": "ec59be4f-abee-42f9-9c88-39050ac2ca81",
   "metadata": {},
   "source": [
    "Following are the purposes of return statement in a python function :\n",
    "\n",
    "1. #### Returning a value :\n",
    "   When we write a function without a return statement it doesn't returns anything. It returns noneType.\n",
    "   but when we write a function with return statement it returns the value to the caller of the function. "
   ]
  },
  {
   "cell_type": "code",
   "execution_count": 70,
   "id": "38f50e28-51ef-46fd-930d-61b669bd4865",
   "metadata": {},
   "outputs": [
    {
     "name": "stdout",
     "output_type": "stream",
     "text": [
      "Hello! sir\n",
      "<class 'NoneType'>\n",
      "Hello! sir\n"
     ]
    },
    {
     "ename": "TypeError",
     "evalue": "unsupported operand type(s) for +: 'NoneType' and 'str'",
     "output_type": "error",
     "traceback": [
      "\u001b[1;31m---------------------------------------------------------------------------\u001b[0m",
      "\u001b[1;31mTypeError\u001b[0m                                 Traceback (most recent call last)",
      "Cell \u001b[1;32mIn[70], line 8\u001b[0m\n\u001b[0;32m      3\u001b[0m     \u001b[38;5;28mprint\u001b[39m(\u001b[38;5;124m\"\u001b[39m\u001b[38;5;124mHello! sir\u001b[39m\u001b[38;5;124m\"\u001b[39m)\n\u001b[0;32m      6\u001b[0m \u001b[38;5;28mprint\u001b[39m(\u001b[38;5;28mtype\u001b[39m(fun()))\n\u001b[1;32m----> 8\u001b[0m result\u001b[38;5;241m=\u001b[39m fun()\u001b[38;5;241m+\u001b[39m\u001b[38;5;124m\"\u001b[39m\u001b[38;5;124mHow are you?\u001b[39m\u001b[38;5;124m\"\u001b[39m\n",
      "\u001b[1;31mTypeError\u001b[0m: unsupported operand type(s) for +: 'NoneType' and 'str'"
     ]
    }
   ],
   "source": [
    "#example :\n",
    "def fun():\n",
    "    print(\"Hello! sir\")\n",
    "\n",
    "\n",
    "print(type(fun()))\n",
    "\n",
    "result= fun()+\"How are you?\"\n",
    "\n",
    "#here we can see it says we can + for 'NonType and Str"
   ]
  },
  {
   "cell_type": "code",
   "execution_count": 73,
   "id": "efaba727-8fec-4339-897a-6f2fd8536d44",
   "metadata": {},
   "outputs": [
    {
     "name": "stdout",
     "output_type": "stream",
     "text": [
      "5\n",
      "<class 'int'>\n"
     ]
    }
   ],
   "source": [
    "#whereas when we use return statement\n",
    "def sumr(x,y):\n",
    "    return x+y\n",
    "    \n",
    "print(sumr(2,3))\n",
    "print(type(sumr(2,3)))\n"
   ]
  },
  {
   "cell_type": "markdown",
   "id": "cc9408f8-0526-426a-b253-6c7417352ad9",
   "metadata": {},
   "source": [
    "2. #### Returning multiple values"
   ]
  },
  {
   "cell_type": "code",
   "execution_count": 74,
   "id": "90a9d4d5-9117-46b6-9abd-476c8f749b15",
   "metadata": {},
   "outputs": [],
   "source": [
    "def multi_task(p,q):\n",
    "    return p+q,p-q,p*q,p/q\n",
    "\n",
    "j,k,l,m=multi_task(10,5)"
   ]
  },
  {
   "cell_type": "code",
   "execution_count": 76,
   "id": "ca53d2c6-591a-44b2-8cfe-56d522fe7091",
   "metadata": {},
   "outputs": [
    {
     "name": "stdout",
     "output_type": "stream",
     "text": [
      "15 5 50 2.0\n"
     ]
    }
   ],
   "source": [
    "print(j,k,l,m)\n",
    "#here we can see the function multitask is returnig multiple values in different variable "
   ]
  },
  {
   "cell_type": "markdown",
   "id": "f40d7ef2-cc47-4bb1-bb12-9129a7b0f385",
   "metadata": {},
   "source": [
    "3. #### Exiting a function\n",
    "   The interpreter exits the function whenever it detects the return statement"
   ]
  },
  {
   "cell_type": "code",
   "execution_count": 82,
   "id": "ed4a898f-81ef-4f65-80d6-9583d99f1abf",
   "metadata": {},
   "outputs": [
    {
     "name": "stdout",
     "output_type": "stream",
     "text": [
      "Even\n",
      "False\n",
      "It is odd but divisible by 3\n",
      "Even\n"
     ]
    }
   ],
   "source": [
    "def check(x):\n",
    "    if x%2==0:\n",
    "        return \"Even\"\n",
    "    elif x%3==0:\n",
    "        return \"It is odd but divisible by 3\"\n",
    "    else:\n",
    "        return False\n",
    "        \n",
    "print(check(2))\n",
    "print(check(5))\n",
    "print(check(3))\n",
    "print(check(6))"
   ]
  },
  {
   "cell_type": "markdown",
   "id": "ee61ca55-f436-4d3f-b387-d12a716e1e21",
   "metadata": {},
   "source": [
    "### Q5. What are iterators in Python and how do they differ from iterables?"
   ]
  },
  {
   "cell_type": "markdown",
   "id": "8d1faa06-37bc-47ad-8f03-f575fee84cf9",
   "metadata": {},
   "source": [
    "Iterable are the data structure which can be iterated over .. or any data structure which is capable of returning every \n",
    "element one by one is called iterable object. For eg: List,Tuple etc\n",
    "\n",
    "Iterators: Iterators are object in python which helps to iterate over each element sequentially of an iterable object.\n",
    "           It is like cursor which moves over every element of the data structure. Created by calling iter() method. it provides next() \n",
    "           method which gives the next element in sequence\n",
    "\n",
    "So we can say that any object which can be iterated are iterable object while the object while helps in the mechanism of iterating over\n",
    "the elements of iterables are called iterators.\n",
    "\n"
   ]
  },
  {
   "cell_type": "code",
   "execution_count": 94,
   "id": "375d9031-c984-4602-86a5-bcadd9ea47eb",
   "metadata": {},
   "outputs": [],
   "source": [
    "# For eg : \n",
    "a=[2,3,4,5,6,7]\n",
    "m=iter(a)"
   ]
  },
  {
   "cell_type": "code",
   "execution_count": 95,
   "id": "35b7fcf3-93b6-4754-8926-61550c5645d7",
   "metadata": {},
   "outputs": [
    {
     "data": {
      "text/plain": [
       "2"
      ]
     },
     "execution_count": 95,
     "metadata": {},
     "output_type": "execute_result"
    }
   ],
   "source": [
    "next(m)"
   ]
  },
  {
   "cell_type": "code",
   "execution_count": 96,
   "id": "ac5e74d2-dc09-4815-9265-d72314de594c",
   "metadata": {},
   "outputs": [
    {
     "data": {
      "text/plain": [
       "3"
      ]
     },
     "execution_count": 96,
     "metadata": {},
     "output_type": "execute_result"
    }
   ],
   "source": [
    "next(m)"
   ]
  },
  {
   "cell_type": "markdown",
   "id": "073894b4-c104-4708-8a96-e502a9f31940",
   "metadata": {},
   "source": [
    "### Q6. Explain the concept of generators in Python and how they are defined."
   ]
  },
  {
   "cell_type": "markdown",
   "id": "1eaf917e-6179-4c75-aca3-5a128b3e7557",
   "metadata": {},
   "source": [
    "Generators are special type of function in python which returns a sequence of values one at a time. Instead of `return` \n",
    "statement generators uses `yield` statement.\n",
    "Generators basically returns an iterator\n"
   ]
  },
  {
   "cell_type": "code",
   "execution_count": 121,
   "id": "408dad67-9ebf-4798-81b3-d95084abe549",
   "metadata": {},
   "outputs": [],
   "source": [
    "#SYNTAX :\n",
    "''' def func_name():\n",
    "        `yield`.... '''\n",
    "\n",
    "#ex: \n",
    "def square(n):\n",
    "    for i in range(2,n):\n",
    "        yield i*i\n",
    "\n",
    "result=square(10)"
   ]
  },
  {
   "cell_type": "code",
   "execution_count": 122,
   "id": "b176909f-b27d-4448-8d8b-5501b049fe15",
   "metadata": {},
   "outputs": [
    {
     "data": {
      "text/plain": [
       "4"
      ]
     },
     "execution_count": 122,
     "metadata": {},
     "output_type": "execute_result"
    }
   ],
   "source": [
    "next(result)"
   ]
  },
  {
   "cell_type": "code",
   "execution_count": 123,
   "id": "98092c52-77d7-49b2-b3e5-b25796b19207",
   "metadata": {},
   "outputs": [
    {
     "data": {
      "text/plain": [
       "9"
      ]
     },
     "execution_count": 123,
     "metadata": {},
     "output_type": "execute_result"
    }
   ],
   "source": [
    "next(result)"
   ]
  },
  {
   "cell_type": "markdown",
   "id": "47f5daf0-efb8-48ab-baaf-dd7f7bd8f2d3",
   "metadata": {},
   "source": [
    "### Q7.  What are the advantages of using generators over regular functions"
   ]
  },
  {
   "cell_type": "markdown",
   "id": "37927a7c-4ef0-4d48-81b1-c7e21815d022",
   "metadata": {},
   "source": [
    "General function performs whole calculation and task in one go,stores it in memory and then give the whole ouput at \n",
    "once, but the genrators returns only one value at a time. It returns an iterator.\n",
    "* Generator function are useful when there is very large input or infinite sequence where they save memory as well as time\n",
    "  at the place of general functions"
   ]
  },
  {
   "cell_type": "code",
   "execution_count": 118,
   "id": "30913c7d-7645-4f83-b42c-6c3d6a1f803f",
   "metadata": {},
   "outputs": [
    {
     "data": {
      "text/plain": [
       "[0, 1, 2, 3, 4, 5, 6, 7, 8, 9]"
      ]
     },
     "execution_count": 118,
     "metadata": {},
     "output_type": "execute_result"
    }
   ],
   "source": [
    "# How it is useful instead of General function\n",
    "def num(n):\n",
    "    li=[]\n",
    "    for i in range(n):\n",
    "        li.append(i)\n",
    "    return li\n",
    "\n",
    "num(10)"
   ]
  },
  {
   "cell_type": "code",
   "execution_count": 111,
   "id": "cc0c1e31-4c4a-4be9-b86b-25849d33930c",
   "metadata": {},
   "outputs": [
    {
     "data": {
      "text/plain": [
       "[0, 1, 2, 3, 4, 5, 6, 7, 8, 9, 10, 11, 12, 13, 14, 15, 16, 17, 18, 19]"
      ]
     },
     "execution_count": 111,
     "metadata": {},
     "output_type": "execute_result"
    }
   ],
   "source": [
    "num(20)"
   ]
  },
  {
   "cell_type": "code",
   "execution_count": 119,
   "id": "904054d8-edab-449e-a2e1-53202133e557",
   "metadata": {},
   "outputs": [],
   "source": [
    "#what if n is 100000000... then this general function will take enough memory \n",
    "#Hence we use Generator function\n",
    "\n",
    "def num(n):\n",
    "    for i in range(n):\n",
    "        yield i"
   ]
  },
  {
   "cell_type": "code",
   "execution_count": 115,
   "id": "443341e7-fea4-45ee-9c0c-f020d20610cf",
   "metadata": {},
   "outputs": [],
   "source": [
    "result=num(10)"
   ]
  },
  {
   "cell_type": "code",
   "execution_count": 116,
   "id": "e300a338-4dd7-4da7-b61c-0652346d4548",
   "metadata": {},
   "outputs": [
    {
     "data": {
      "text/plain": [
       "0"
      ]
     },
     "execution_count": 116,
     "metadata": {},
     "output_type": "execute_result"
    }
   ],
   "source": [
    "next(result)"
   ]
  },
  {
   "cell_type": "code",
   "execution_count": 117,
   "id": "29c3636e-1fe5-4e38-b346-5a1c5b18eb40",
   "metadata": {},
   "outputs": [
    {
     "data": {
      "text/plain": [
       "1"
      ]
     },
     "execution_count": 117,
     "metadata": {},
     "output_type": "execute_result"
    }
   ],
   "source": [
    "next(result)"
   ]
  },
  {
   "cell_type": "markdown",
   "id": "aa05163b-a01f-42cc-9348-9531dc456496",
   "metadata": {},
   "source": [
    "### Q8.  What is a lambda function in Python and when is it typically used?"
   ]
  },
  {
   "cell_type": "markdown",
   "id": "47168a84-4f9b-485d-9a5b-d6a19abfc6ef",
   "metadata": {},
   "source": [
    "Lambda functions are small anonymus function which is defined using lambda keyword instead of def keyworld like regular function.\n",
    "\n",
    "* It is generally used for short statement tasks. \n",
    "* SYNTAX : lambda arguments: expression\n",
    "\n",
    "1. Lambda function can take multiple arguments\n",
    "2. lambda function only takes single expressions."
   ]
  },
  {
   "cell_type": "code",
   "execution_count": 125,
   "id": "5059b406-229a-49fb-a6af-2d3fffc21b03",
   "metadata": {},
   "outputs": [
    {
     "data": {
      "text/plain": [
       "9"
      ]
     },
     "execution_count": 125,
     "metadata": {},
     "output_type": "execute_result"
    }
   ],
   "source": [
    "func=lambda x,y,z: x+y+z\n",
    "func(2,3,4)"
   ]
  },
  {
   "cell_type": "code",
   "execution_count": 135,
   "id": "b01e0677-9b29-4a79-b302-89a66bfb15f3",
   "metadata": {},
   "outputs": [
    {
     "data": {
      "text/plain": [
       "[0, 1, 1, 2, 3, 5, 8, 13, 21, 34]"
      ]
     },
     "execution_count": 135,
     "metadata": {},
     "output_type": "execute_result"
    }
   ],
   "source": [
    "fun= lambda n: n if n <=1 else fun(n-1)+fun(n-2)\n",
    "[fun(i) for i in range(10)]"
   ]
  },
  {
   "cell_type": "markdown",
   "id": "4d0f24f8-4340-4c2c-8c70-9eb681c3addb",
   "metadata": {},
   "source": [
    "### Q9. Explain the purpose and usage of the `map()` function in Python"
   ]
  },
  {
   "cell_type": "markdown",
   "id": "d61ddddd-0a7a-4068-9c46-b53636aad246",
   "metadata": {},
   "source": [
    "Map function is a type of function which applies or maps a function to each and every element of an iterable and returns a new\n",
    "iterable containing the result.\n",
    "\n",
    "* It is useful when we have to perform any specific task over every element of a large data set.\n",
    "* It simplies the multi-line code to single line\n",
    "* Syntax : Map(function,iterable)\n",
    "\n"
   ]
  },
  {
   "cell_type": "code",
   "execution_count": 143,
   "id": "4e7e9b6d-851f-4038-b347-b75bcbb8a77c",
   "metadata": {},
   "outputs": [
    {
     "data": {
      "text/plain": [
       "[4, 16, 36, 64, 100]"
      ]
     },
     "execution_count": 143,
     "metadata": {},
     "output_type": "execute_result"
    }
   ],
   "source": [
    "#for example we have to square every element of a list\n",
    "#we have already defined function which squares and list \n",
    "l=[2,4,6,8,10]\n",
    "sq_l = map(lambda x: x**2 , l)\n",
    "list(sq_l)"
   ]
  },
  {
   "cell_type": "code",
   "execution_count": 153,
   "id": "01c94105-813b-4d5c-9198-ae046e975dab",
   "metadata": {},
   "outputs": [
    {
     "data": {
      "text/plain": [
       "[12, 14, 16, 18, 20]"
      ]
     },
     "execution_count": 153,
     "metadata": {},
     "output_type": "execute_result"
    }
   ],
   "source": [
    "#hence we can see the squared function is mapped or applied over each element of list l.\n",
    "\n",
    "#for eg: Suppose there is already a defined function which increase every element by 10\n",
    "def inc(x):\n",
    "    return x+10\n",
    "#now we will map already defined function inc with all elements of l\n",
    "list(map(inc,l))"
   ]
  },
  {
   "cell_type": "markdown",
   "id": "2d42a72b-4b38-45e3-bbc8-81b2c1a1d57f",
   "metadata": {},
   "source": [
    "### Q10. What is the difference between `map()`, `reduce()`, and `filter()` functions in Python?"
   ]
  },
  {
   "cell_type": "markdown",
   "id": "b10a2152-e0f1-45f4-844d-645fa83aeae4",
   "metadata": {},
   "source": [
    "1. Map() : Map function is used to map the given function to each and every element of the iterable.\n",
    "2. Reduce(): Reduce function is used to reduce the iterable based on given function by combining the result\n",
    "            of each element with the previous result\n",
    "3. Filter() : Filter function is used to filter elements from an iterable based on the function given\n",
    "             returning a new iterable"
   ]
  },
  {
   "cell_type": "code",
   "execution_count": 155,
   "id": "a69a7853-45f4-474c-a721-47a4f879c233",
   "metadata": {},
   "outputs": [
    {
     "data": {
      "text/plain": [
       "['Rahul', 'Modi', 'Shah', 'Lalu']"
      ]
     },
     "execution_count": 155,
     "metadata": {},
     "output_type": "execute_result"
    }
   ],
   "source": [
    "#1. Map example :\n",
    "name=[\"rahul\",\"modi\",\"shah\",\"lalu\"]\n",
    "list(map(str.capitalize,name))"
   ]
  },
  {
   "cell_type": "code",
   "execution_count": 3,
   "id": "5f3eab3c-2e60-4212-bc35-ef3249ac0bec",
   "metadata": {},
   "outputs": [
    {
     "data": {
      "text/plain": [
       "30"
      ]
     },
     "execution_count": 3,
     "metadata": {},
     "output_type": "execute_result"
    }
   ],
   "source": [
    "#2. Reudce example:\n",
    "\n",
    "from functools import reduce\n",
    "l1 = [2,4,6,8,10]\n",
    "reduce(lambda x,y:x+y, l1)"
   ]
  },
  {
   "cell_type": "code",
   "execution_count": 164,
   "id": "21ea7aec-e784-4c23-b24c-5d72d897cbb4",
   "metadata": {},
   "outputs": [
    {
     "data": {
      "text/plain": [
       "[1, 3, 5, 7, 9]"
      ]
     },
     "execution_count": 164,
     "metadata": {},
     "output_type": "execute_result"
    }
   ],
   "source": [
    "#3. Filter example:\n",
    "l5=[1,2,3,4,5,6,7,8,9,10]\n",
    "list(filter(lambda x : x%2 !=0 , l5))"
   ]
  },
  {
   "cell_type": "markdown",
   "id": "f7700383-7c85-4b5f-aab6-d3a78de2792c",
   "metadata": {},
   "source": [
    "### Q11. Using pen & Paper write the internal mechanism for sum operation using  reduce function on this given\n",
    "####      list:[47,11,42,13];"
   ]
  },
  {
   "cell_type": "code",
   "execution_count": 13,
   "id": "681e4bfc-7c06-48ae-a0b7-30aa387cd87c",
   "metadata": {},
   "outputs": [
    {
     "data": {
      "text/plain": [
       "113"
      ]
     },
     "execution_count": 13,
     "metadata": {},
     "output_type": "execute_result"
    }
   ],
   "source": [
    "list=[47,11,42,13]\n",
    "reduce(lambda x,y:x+y,list)\n",
    "\n",
    "# Below on the next page is the attached internal mechanism for sum operation\n",
    "\n",
    "#\n",
    "\n",
    "\n",
    "#\n",
    "\n",
    "\n",
    "\n",
    "#\n",
    "\n",
    "\n",
    "#\n",
    "\n",
    "\n",
    "# on the next page"
   ]
  },
  {
   "attachments": {
    "ec10a79f-82b4-43df-83c4-1a566cc564cf.jpg": {
     "image/jpeg": "[encoded data removed]"
    }
   },
   "cell_type": "markdown",
   "id": "b0742939-3337-4a02-8302-fb6c29aa17ce",
   "metadata": {},
   "source": [
    "![q11.func.jpg](attachment:ec10a79f-82b4-43df-83c4-1a566cc564cf.jpg)"
   ]
  },
  {
   "cell_type": "markdown",
   "id": "83998671-bc6d-425c-a6a4-cd8265206fa0",
   "metadata": {},
   "source": [
    "# PRACTICAL ASSIGNMENT"
   ]
  },
  {
   "cell_type": "markdown",
   "id": "8cc2fd03-8fe9-4a46-b2bd-586aff43ab31",
   "metadata": {},
   "source": [
    "# [Github link to Function practical assignment](https://github.com/bits-blitzz/my_first_repo/blob/main/functions_practical_assignment.ipynb)"
   ]
  },
  {
   "cell_type": "code",
   "execution_count": null,
   "id": "c7912849-6448-4d8f-a1a3-080b0f1d60a4",
   "metadata": {},
   "outputs": [],
   "source": []
  }
 ],
 "metadata": {
  "kernelspec": {
   "display_name": "Python 3 (ipykernel)",
   "language": "python",
   "name": "python3"
  },
  "language_info": {
   "codemirror_mode": {
    "name": "ipython",
    "version": 3
   },
   "file_extension": ".py",
   "mimetype": "text/x-python",
   "name": "python",
   "nbconvert_exporter": "python",
   "pygments_lexer": "ipython3",
   "version": "3.12.4"
  }
 },
 "nbformat": 4,
 "nbformat_minor": 5
}
