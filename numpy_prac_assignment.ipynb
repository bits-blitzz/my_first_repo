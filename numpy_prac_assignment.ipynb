{
  "cells": [
    {
      "cell_type": "markdown",
      "metadata": {
        "id": "view-in-github",
        "colab_type": "text"
      },
      "source": [
        "<a href=\"https://colab.research.google.com/github/bits-blitzz/my_first_repo/blob/main/numpy_prac_assignment.ipynb\" target=\"_parent\"><img src=\"https://colab.research.google.com/assets/colab-badge.svg\" alt=\"Open In Colab\"/></a>"
      ]
    },
    {
      "cell_type": "code",
      "execution_count": null,
      "id": "10ad729e-4c4c-4759-aa3e-e07068968ae8",
      "metadata": {
        "id": "10ad729e-4c4c-4759-aa3e-e07068968ae8"
      },
      "outputs": [],
      "source": [
        "import numpy as np"
      ]
    },
    {
      "cell_type": "markdown",
      "id": "9703bdcb-02cb-42d9-a167-3698a9b56e79",
      "metadata": {
        "id": "9703bdcb-02cb-42d9-a167-3698a9b56e79"
      },
      "source": [
        "#### Q1.  Create a 3x3 NumPy array with random integers between 1 and 100. Then, interchange its rows and columns"
      ]
    },
    {
      "cell_type": "code",
      "execution_count": null,
      "id": "b78ffad0-7dbe-4a7b-b7f9-9630c4de97bc",
      "metadata": {
        "id": "b78ffad0-7dbe-4a7b-b7f9-9630c4de97bc"
      },
      "outputs": [],
      "source": [
        "arr_q1=np.random.randint(1,101,(3,3))"
      ]
    },
    {
      "cell_type": "code",
      "execution_count": null,
      "id": "f2afee41-c62b-46e5-9e03-9e8f73dbbc91",
      "metadata": {
        "id": "f2afee41-c62b-46e5-9e03-9e8f73dbbc91",
        "outputId": "ad4c6da0-b90c-48bf-a662-b88dfa814f90"
      },
      "outputs": [
        {
          "data": {
            "text/plain": [
              "array([[69, 27,  4],\n",
              "       [37, 97, 44],\n",
              "       [74, 62, 29]])"
            ]
          },
          "execution_count": 3,
          "metadata": {},
          "output_type": "execute_result"
        }
      ],
      "source": [
        "arr_q1"
      ]
    },
    {
      "cell_type": "code",
      "execution_count": null,
      "id": "2eb46803-71af-4ecf-a5b8-9723ec376da1",
      "metadata": {
        "id": "2eb46803-71af-4ecf-a5b8-9723ec376da1",
        "outputId": "f7951bec-a89e-4ee4-9787-058cf7012a94"
      },
      "outputs": [
        {
          "data": {
            "text/plain": [
              "array([[69, 37, 74],\n",
              "       [27, 97, 62],\n",
              "       [ 4, 44, 29]])"
            ]
          },
          "execution_count": 4,
          "metadata": {},
          "output_type": "execute_result"
        }
      ],
      "source": [
        "#interchanging rows and columns\n",
        "arr_q1.T"
      ]
    },
    {
      "cell_type": "markdown",
      "id": "1f98d07a-ad37-4166-b445-7abd4a3d9669",
      "metadata": {
        "id": "1f98d07a-ad37-4166-b445-7abd4a3d9669"
      },
      "source": [
        "#### Q2. Generate a 1D NumPy array with 10 elements. Reshape it into a 2x5 array, then into a 5x2 array"
      ]
    },
    {
      "cell_type": "code",
      "execution_count": null,
      "id": "2be7e04d-8c45-4f90-baa5-4e0dcda65496",
      "metadata": {
        "id": "2be7e04d-8c45-4f90-baa5-4e0dcda65496"
      },
      "outputs": [],
      "source": [
        "arr_q2=np.random.randint(1,10,10)"
      ]
    },
    {
      "cell_type": "code",
      "execution_count": null,
      "id": "964fa882-e549-4e35-a186-1778d7b55afb",
      "metadata": {
        "id": "964fa882-e549-4e35-a186-1778d7b55afb",
        "outputId": "e41d8e86-8ab1-499f-a790-a2d9689f4a71"
      },
      "outputs": [
        {
          "data": {
            "text/plain": [
              "array([3, 4, 3, 8, 6, 8, 2, 6, 1, 7])"
            ]
          },
          "execution_count": 6,
          "metadata": {},
          "output_type": "execute_result"
        }
      ],
      "source": [
        "arr_q2"
      ]
    },
    {
      "cell_type": "code",
      "execution_count": null,
      "id": "f438b650-2031-4664-b672-e108080b42e4",
      "metadata": {
        "id": "f438b650-2031-4664-b672-e108080b42e4",
        "outputId": "3e642b99-c34d-4b7d-e0a7-2b8480813295"
      },
      "outputs": [
        {
          "data": {
            "text/plain": [
              "array([[3, 4, 3, 8, 6],\n",
              "       [8, 2, 6, 1, 7]])"
            ]
          },
          "execution_count": 7,
          "metadata": {},
          "output_type": "execute_result"
        }
      ],
      "source": [
        "#reshaping into 2X5 array\n",
        "np.reshape(arr_q2, (2,5))"
      ]
    },
    {
      "cell_type": "code",
      "execution_count": null,
      "id": "d1b5f87f-85d6-46e6-82b3-35568744cb89",
      "metadata": {
        "id": "d1b5f87f-85d6-46e6-82b3-35568744cb89",
        "outputId": "e60955e9-d98b-459c-9808-d4106535ee03"
      },
      "outputs": [
        {
          "data": {
            "text/plain": [
              "array([[3, 4],\n",
              "       [3, 8],\n",
              "       [6, 8],\n",
              "       [2, 6],\n",
              "       [1, 7]])"
            ]
          },
          "execution_count": 8,
          "metadata": {},
          "output_type": "execute_result"
        }
      ],
      "source": [
        "#reshaping into 5X2 array\n",
        "np.reshape(arr_q2,(5,2))"
      ]
    },
    {
      "cell_type": "markdown",
      "id": "c41f6d8a-8641-4658-a7dd-735a76d2dfd5",
      "metadata": {
        "id": "c41f6d8a-8641-4658-a7dd-735a76d2dfd5"
      },
      "source": [
        "#### Q3.  Create a 4x4 NumPy array with random float values. Add a border of zeros around it, resulting in a 6x6 array."
      ]
    },
    {
      "cell_type": "code",
      "execution_count": null,
      "id": "32aa1f7a-303e-4831-893c-9aa84c22e7ab",
      "metadata": {
        "id": "32aa1f7a-303e-4831-893c-9aa84c22e7ab"
      },
      "outputs": [],
      "source": [
        "ar_q3=np.random.rand(4,4)"
      ]
    },
    {
      "cell_type": "code",
      "execution_count": null,
      "id": "d6e4d9b7-670d-473c-9edb-8180b9055b9c",
      "metadata": {
        "id": "d6e4d9b7-670d-473c-9edb-8180b9055b9c"
      },
      "outputs": [],
      "source": [
        "ar_q3=np.round(ar_q3,2)"
      ]
    },
    {
      "cell_type": "code",
      "execution_count": null,
      "id": "e2d01da4-97f6-4f1c-98b5-16263bd29b83",
      "metadata": {
        "id": "e2d01da4-97f6-4f1c-98b5-16263bd29b83",
        "outputId": "ed3ad499-3574-4ae0-fc4e-15aba75f24ea"
      },
      "outputs": [
        {
          "data": {
            "text/plain": [
              "array([[0.9 , 0.24, 0.86, 0.19],\n",
              "       [0.02, 0.37, 0.15, 0.48],\n",
              "       [0.1 , 0.84, 0.43, 0.88],\n",
              "       [0.79, 0.06, 0.36, 0.41]])"
            ]
          },
          "execution_count": 11,
          "metadata": {},
          "output_type": "execute_result"
        }
      ],
      "source": [
        "ar_q3"
      ]
    },
    {
      "cell_type": "code",
      "execution_count": null,
      "id": "8453a344-398c-4050-b946-823891997f57",
      "metadata": {
        "id": "8453a344-398c-4050-b946-823891997f57"
      },
      "outputs": [],
      "source": [
        "ar_zeros=np.zeros((6,6))"
      ]
    },
    {
      "cell_type": "code",
      "execution_count": null,
      "id": "12e1944f-5632-4197-a546-11c47bf532d7",
      "metadata": {
        "id": "12e1944f-5632-4197-a546-11c47bf532d7",
        "outputId": "5b60f8ba-9f16-4c97-e469-7f85a172ffd4"
      },
      "outputs": [
        {
          "data": {
            "text/plain": [
              "array([[0., 0., 0., 0., 0., 0.],\n",
              "       [0., 0., 0., 0., 0., 0.],\n",
              "       [0., 0., 0., 0., 0., 0.],\n",
              "       [0., 0., 0., 0., 0., 0.],\n",
              "       [0., 0., 0., 0., 0., 0.],\n",
              "       [0., 0., 0., 0., 0., 0.]])"
            ]
          },
          "execution_count": 13,
          "metadata": {},
          "output_type": "execute_result"
        }
      ],
      "source": [
        "ar_zeros"
      ]
    },
    {
      "cell_type": "code",
      "execution_count": null,
      "id": "daaf8800-404a-49f3-98f7-ea8bde68b0be",
      "metadata": {
        "id": "daaf8800-404a-49f3-98f7-ea8bde68b0be"
      },
      "outputs": [],
      "source": [
        "ar_zeros[1:5,1:5]=ar_q3"
      ]
    },
    {
      "cell_type": "code",
      "execution_count": null,
      "id": "719b3f38-ebfc-48fa-a0f6-90faaba26488",
      "metadata": {
        "id": "719b3f38-ebfc-48fa-a0f6-90faaba26488",
        "outputId": "5a70dde1-ee1a-4ded-8fdd-5c1fb645a690"
      },
      "outputs": [
        {
          "data": {
            "text/plain": [
              "array([[0.  , 0.  , 0.  , 0.  , 0.  , 0.  ],\n",
              "       [0.  , 0.9 , 0.24, 0.86, 0.19, 0.  ],\n",
              "       [0.  , 0.02, 0.37, 0.15, 0.48, 0.  ],\n",
              "       [0.  , 0.1 , 0.84, 0.43, 0.88, 0.  ],\n",
              "       [0.  , 0.79, 0.06, 0.36, 0.41, 0.  ],\n",
              "       [0.  , 0.  , 0.  , 0.  , 0.  , 0.  ]])"
            ]
          },
          "execution_count": 15,
          "metadata": {},
          "output_type": "execute_result"
        }
      ],
      "source": [
        "ar_zeros"
      ]
    },
    {
      "cell_type": "markdown",
      "id": "ad71066b-5d86-4bcb-af39-80c308d050ed",
      "metadata": {
        "id": "ad71066b-5d86-4bcb-af39-80c308d050ed"
      },
      "source": [
        "#### Q4. Using NumPy, create an array of integers from 10 to 60 with a step of 5."
      ]
    },
    {
      "cell_type": "code",
      "execution_count": null,
      "id": "f36a0a78-922c-406b-9449-02f053ba3490",
      "metadata": {
        "id": "f36a0a78-922c-406b-9449-02f053ba3490"
      },
      "outputs": [],
      "source": [
        "ar_q4=np.arange(10,61,5)"
      ]
    },
    {
      "cell_type": "code",
      "execution_count": null,
      "id": "fa2dfc21-6eff-43b9-8aab-6534df48d049",
      "metadata": {
        "id": "fa2dfc21-6eff-43b9-8aab-6534df48d049",
        "outputId": "2a2ba859-8f07-4209-a31f-60f454a80d80"
      },
      "outputs": [
        {
          "data": {
            "text/plain": [
              "array([10, 15, 20, 25, 30, 35, 40, 45, 50, 55, 60])"
            ]
          },
          "execution_count": 17,
          "metadata": {},
          "output_type": "execute_result"
        }
      ],
      "source": [
        "ar_q4"
      ]
    },
    {
      "cell_type": "markdown",
      "id": "66144465-96ab-40cd-8f3d-2db536f3f8c0",
      "metadata": {
        "id": "66144465-96ab-40cd-8f3d-2db536f3f8c0"
      },
      "source": [
        "#### Q5.  Create a NumPy array of strings ['python', 'numpy', 'pandas']. Apply different case transformations\n",
        "(uppercase, lowercase, title case, etc.) to each element."
      ]
    },
    {
      "cell_type": "code",
      "execution_count": null,
      "id": "9f00e44f-b49d-43d2-a878-aa11f50e8303",
      "metadata": {
        "id": "9f00e44f-b49d-43d2-a878-aa11f50e8303"
      },
      "outputs": [],
      "source": [
        "str=['python','numpy','pandas']\n",
        "arr_q5=np.array(str)"
      ]
    },
    {
      "cell_type": "code",
      "execution_count": null,
      "id": "ef01b969-cae2-46c6-b21a-0278ea45aff8",
      "metadata": {
        "id": "ef01b969-cae2-46c6-b21a-0278ea45aff8",
        "outputId": "6808eb6c-8f5e-47c8-84a0-29382209197e"
      },
      "outputs": [
        {
          "data": {
            "text/plain": [
              "array(['python', 'numpy', 'pandas'], dtype='<U6')"
            ]
          },
          "execution_count": 19,
          "metadata": {},
          "output_type": "execute_result"
        }
      ],
      "source": [
        "arr_q5"
      ]
    },
    {
      "cell_type": "code",
      "execution_count": null,
      "id": "0142e4fc-42be-4003-938a-63b40dd916ff",
      "metadata": {
        "id": "0142e4fc-42be-4003-938a-63b40dd916ff",
        "outputId": "6243ad08-8eb3-4384-dd6a-a31cc35fb8b5"
      },
      "outputs": [
        {
          "data": {
            "text/plain": [
              "array(['PYTHON', 'NUMPY', 'PANDAS'], dtype='<U6')"
            ]
          },
          "execution_count": 20,
          "metadata": {},
          "output_type": "execute_result"
        }
      ],
      "source": [
        "np.char.upper(arr_q5)"
      ]
    },
    {
      "cell_type": "code",
      "execution_count": null,
      "id": "eff77478-72eb-4a7e-b407-71385ee8e806",
      "metadata": {
        "id": "eff77478-72eb-4a7e-b407-71385ee8e806",
        "outputId": "4ff086b1-d9dc-4f0c-d279-ec719f23ae44"
      },
      "outputs": [
        {
          "data": {
            "text/plain": [
              "array(['python', 'numpy', 'pandas'], dtype='<U6')"
            ]
          },
          "execution_count": 21,
          "metadata": {},
          "output_type": "execute_result"
        }
      ],
      "source": [
        "np.char.lower(arr_q5)"
      ]
    },
    {
      "cell_type": "code",
      "execution_count": null,
      "id": "77672d91-3ed3-43ae-900a-1764015ee650",
      "metadata": {
        "id": "77672d91-3ed3-43ae-900a-1764015ee650",
        "outputId": "4df06bdd-b67e-40d8-8310-4b62bd0971dd"
      },
      "outputs": [
        {
          "data": {
            "text/plain": [
              "array(['Python', 'Numpy', 'Pandas'], dtype='<U6')"
            ]
          },
          "execution_count": 22,
          "metadata": {},
          "output_type": "execute_result"
        }
      ],
      "source": [
        "np.char.capitalize(arr_q5)"
      ]
    },
    {
      "cell_type": "code",
      "execution_count": null,
      "id": "2bfd8455-1750-464e-aeb5-c5facac9db69",
      "metadata": {
        "id": "2bfd8455-1750-464e-aeb5-c5facac9db69",
        "outputId": "a1cbe67a-358f-4907-9e57-87dd5d01532e"
      },
      "outputs": [
        {
          "data": {
            "text/plain": [
              "array(['Python', 'Numpy', 'Pandas'], dtype='<U6')"
            ]
          },
          "execution_count": 23,
          "metadata": {},
          "output_type": "execute_result"
        }
      ],
      "source": [
        "np.char.title(arr_q5)"
      ]
    },
    {
      "cell_type": "markdown",
      "id": "abd99f54-1772-4e3d-8de7-4e214049eec5",
      "metadata": {
        "id": "abd99f54-1772-4e3d-8de7-4e214049eec5"
      },
      "source": [
        "#### Q6.  Generate a NumPy array of words. Insert a space between each character of every word in the array."
      ]
    },
    {
      "cell_type": "code",
      "execution_count": null,
      "id": "6fa2f6f3-2fda-4570-a078-23d348d676ae",
      "metadata": {
        "id": "6fa2f6f3-2fda-4570-a078-23d348d676ae"
      },
      "outputs": [],
      "source": [
        "words=[\"Hello\",\"Sir\",\"How\\'s\",\"My\",\"Assignment\"]\n",
        "\n",
        "ar_q6=np.array(words)"
      ]
    },
    {
      "cell_type": "code",
      "execution_count": null,
      "id": "622e56f6-0a01-41d5-8098-f2d25744a50d",
      "metadata": {
        "id": "622e56f6-0a01-41d5-8098-f2d25744a50d",
        "outputId": "f6f65e5b-9f8c-4532-b965-cb16afd2c461"
      },
      "outputs": [
        {
          "data": {
            "text/plain": [
              "array(['Hello', 'Sir', \"How's\", 'My', 'Assignment'], dtype='<U10')"
            ]
          },
          "execution_count": 25,
          "metadata": {},
          "output_type": "execute_result"
        }
      ],
      "source": [
        "ar_q6"
      ]
    },
    {
      "cell_type": "code",
      "execution_count": null,
      "id": "7e2b276b-9eac-475b-9fb6-6ef4f73d165d",
      "metadata": {
        "id": "7e2b276b-9eac-475b-9fb6-6ef4f73d165d"
      },
      "outputs": [],
      "source": [
        "q=np.char.join(\" \",ar_q6)"
      ]
    },
    {
      "cell_type": "code",
      "execution_count": null,
      "id": "ad3782f9-2fb8-406f-aa02-49a68683aa09",
      "metadata": {
        "id": "ad3782f9-2fb8-406f-aa02-49a68683aa09",
        "outputId": "49c3f25a-c70a-4a63-bad5-609cf5c96fe6"
      },
      "outputs": [
        {
          "name": "stdout",
          "output_type": "stream",
          "text": [
            "['H e l l o' 'S i r' \"H o w ' s\" 'M y' 'A s s i g n m e n t']\n"
          ]
        }
      ],
      "source": [
        "print(q)"
      ]
    },
    {
      "cell_type": "markdown",
      "id": "9093bd5f-e916-4dfd-993e-cecf5d59f5b5",
      "metadata": {
        "id": "9093bd5f-e916-4dfd-993e-cecf5d59f5b5"
      },
      "source": [
        "#### Q7.  Create two 2D NumPy arrays and perform element-wise addition, subtraction, multiplication, and division."
      ]
    },
    {
      "cell_type": "code",
      "execution_count": null,
      "id": "5e509de4-c260-416f-9b3e-495aab99d3c1",
      "metadata": {
        "id": "5e509de4-c260-416f-9b3e-495aab99d3c1"
      },
      "outputs": [],
      "source": [
        "arr1= np.random.randint(1,4,(3,4))"
      ]
    },
    {
      "cell_type": "code",
      "execution_count": null,
      "id": "374155f4-2732-4a77-bc54-e2f0068d0ba3",
      "metadata": {
        "id": "374155f4-2732-4a77-bc54-e2f0068d0ba3"
      },
      "outputs": [],
      "source": [
        "arr2= np.random.randint(1,4,(3,4))"
      ]
    },
    {
      "cell_type": "code",
      "execution_count": null,
      "id": "7b286091-ef10-4528-bbbc-647407497521",
      "metadata": {
        "id": "7b286091-ef10-4528-bbbc-647407497521",
        "outputId": "a9615481-f343-4f32-9bd0-2607f12e1872"
      },
      "outputs": [
        {
          "data": {
            "text/plain": [
              "array([[2, 2, 3, 3],\n",
              "       [2, 2, 3, 2],\n",
              "       [2, 1, 3, 2]])"
            ]
          },
          "execution_count": 30,
          "metadata": {},
          "output_type": "execute_result"
        }
      ],
      "source": [
        "arr1"
      ]
    },
    {
      "cell_type": "code",
      "execution_count": null,
      "id": "ef30747f-097f-4a64-a1b9-3f658834cbfd",
      "metadata": {
        "id": "ef30747f-097f-4a64-a1b9-3f658834cbfd",
        "outputId": "d79235f2-f9a7-4072-fde4-1cfcc9937482"
      },
      "outputs": [
        {
          "data": {
            "text/plain": [
              "array([[3, 2, 3, 1],\n",
              "       [3, 2, 3, 3],\n",
              "       [1, 3, 1, 3]])"
            ]
          },
          "execution_count": 31,
          "metadata": {},
          "output_type": "execute_result"
        }
      ],
      "source": [
        "arr2"
      ]
    },
    {
      "cell_type": "code",
      "execution_count": null,
      "id": "b984958f-17dc-417c-99d9-182203770356",
      "metadata": {
        "id": "b984958f-17dc-417c-99d9-182203770356",
        "outputId": "0af545cf-bcd2-446d-d0b6-96bb3359fcb9"
      },
      "outputs": [
        {
          "data": {
            "text/plain": [
              "array([[5, 4, 6, 4],\n",
              "       [5, 4, 6, 5],\n",
              "       [3, 4, 4, 5]])"
            ]
          },
          "execution_count": 32,
          "metadata": {},
          "output_type": "execute_result"
        }
      ],
      "source": [
        "#Element wise addition\n",
        "arr1+arr2"
      ]
    },
    {
      "cell_type": "code",
      "execution_count": null,
      "id": "690f0646-a685-4e30-b5b0-372014d0f1b7",
      "metadata": {
        "id": "690f0646-a685-4e30-b5b0-372014d0f1b7",
        "outputId": "c6da0ecc-1f79-40af-9c90-723ce59dad04"
      },
      "outputs": [
        {
          "data": {
            "text/plain": [
              "array([[-1,  0,  0,  2],\n",
              "       [-1,  0,  0, -1],\n",
              "       [ 1, -2,  2, -1]])"
            ]
          },
          "execution_count": 33,
          "metadata": {},
          "output_type": "execute_result"
        }
      ],
      "source": [
        "#Element wise subtractions\n",
        "arr1-arr2"
      ]
    },
    {
      "cell_type": "code",
      "execution_count": null,
      "id": "d5c7569d-dba1-4c78-9c2f-11ab1b2ab815",
      "metadata": {
        "id": "d5c7569d-dba1-4c78-9c2f-11ab1b2ab815",
        "outputId": "25c7749d-6846-4c33-ec14-a32852c8847b"
      },
      "outputs": [
        {
          "data": {
            "text/plain": [
              "array([[6, 4, 9, 3],\n",
              "       [6, 4, 9, 6],\n",
              "       [2, 3, 3, 6]])"
            ]
          },
          "execution_count": 34,
          "metadata": {},
          "output_type": "execute_result"
        }
      ],
      "source": [
        "#Element wise multiplication\n",
        "arr1*arr2"
      ]
    },
    {
      "cell_type": "code",
      "execution_count": null,
      "id": "5d6ab388-21f1-4183-a15f-faac9d052906",
      "metadata": {
        "id": "5d6ab388-21f1-4183-a15f-faac9d052906",
        "outputId": "06ac2099-74c5-4874-ca4e-cccf0125bdf7"
      },
      "outputs": [
        {
          "data": {
            "text/plain": [
              "array([[0.66666667, 1.        , 1.        , 3.        ],\n",
              "       [0.66666667, 1.        , 1.        , 0.66666667],\n",
              "       [2.        , 0.33333333, 3.        , 0.66666667]])"
            ]
          },
          "execution_count": 35,
          "metadata": {},
          "output_type": "execute_result"
        }
      ],
      "source": [
        "#Element wise division\n",
        "arr1/arr2"
      ]
    },
    {
      "cell_type": "markdown",
      "id": "5cd9fe50-83b8-4a3b-b17a-8bf4c83d7172",
      "metadata": {
        "id": "5cd9fe50-83b8-4a3b-b17a-8bf4c83d7172"
      },
      "source": [
        "#### Q8.  Use NumPy to create a 5x5 identity matrix, then extract its diagonal elements.\n",
        "\n",
        "\n"
      ]
    },
    {
      "cell_type": "code",
      "execution_count": null,
      "id": "491e7393-c0dd-4bc3-bd44-146acfa29328",
      "metadata": {
        "id": "491e7393-c0dd-4bc3-bd44-146acfa29328"
      },
      "outputs": [],
      "source": [
        "id_mat=np.eye(5,dtype=int)"
      ]
    },
    {
      "cell_type": "code",
      "execution_count": null,
      "id": "bf4d520e-59fb-4584-ad55-a93bc5d9ed7e",
      "metadata": {
        "id": "bf4d520e-59fb-4584-ad55-a93bc5d9ed7e",
        "outputId": "0ea43a16-1863-406d-855f-1e4fa3e576fb"
      },
      "outputs": [
        {
          "data": {
            "text/plain": [
              "array([[1, 0, 0, 0, 0],\n",
              "       [0, 1, 0, 0, 0],\n",
              "       [0, 0, 1, 0, 0],\n",
              "       [0, 0, 0, 1, 0],\n",
              "       [0, 0, 0, 0, 1]])"
            ]
          },
          "execution_count": 39,
          "metadata": {},
          "output_type": "execute_result"
        }
      ],
      "source": [
        "id_mat"
      ]
    },
    {
      "cell_type": "code",
      "execution_count": null,
      "id": "9b38472a-f6e6-42d2-b337-c5b0a3ab21d6",
      "metadata": {
        "id": "9b38472a-f6e6-42d2-b337-c5b0a3ab21d6",
        "outputId": "4339d2bb-9142-4831-cd6b-aa4b4d6e49f8"
      },
      "outputs": [
        {
          "data": {
            "text/plain": [
              "array([1, 1, 1, 1, 1])"
            ]
          },
          "execution_count": 44,
          "metadata": {},
          "output_type": "execute_result"
        }
      ],
      "source": [
        "#using slicing\n",
        "id_mat[[0,1,2,3,4],[0,1,2,3,4]]"
      ]
    },
    {
      "cell_type": "code",
      "execution_count": null,
      "id": "ddf5d710-857a-4e0b-949f-413dfab71b3a",
      "metadata": {
        "id": "ddf5d710-857a-4e0b-949f-413dfab71b3a",
        "outputId": "ecb8bac6-4406-4200-fb23-bf9f7f80257c"
      },
      "outputs": [
        {
          "data": {
            "text/plain": [
              "array([1, 1, 1, 1, 1])"
            ]
          },
          "execution_count": 45,
          "metadata": {},
          "output_type": "execute_result"
        }
      ],
      "source": [
        "#using diagonal\n",
        "np.diagonal(id_mat)"
      ]
    },
    {
      "cell_type": "markdown",
      "id": "e0006ec2-99d4-46b5-8633-89df16f6dd9c",
      "metadata": {
        "id": "e0006ec2-99d4-46b5-8633-89df16f6dd9c"
      },
      "source": [
        "#### Q9. Generate a NumPy array of 100 random integers between 0 and 1000. Find and display all prime numbers in\n",
        "this array."
      ]
    },
    {
      "cell_type": "code",
      "execution_count": null,
      "id": "fbd490db-76e9-4ceb-890a-28308e56b145",
      "metadata": {
        "id": "fbd490db-76e9-4ceb-890a-28308e56b145"
      },
      "outputs": [],
      "source": [
        "ar_q9=np.random.randint(0,1001,100)"
      ]
    },
    {
      "cell_type": "code",
      "execution_count": null,
      "id": "24f8b9d9-c0f8-4de2-9c0f-f5c0568a0fc7",
      "metadata": {
        "id": "24f8b9d9-c0f8-4de2-9c0f-f5c0568a0fc7",
        "outputId": "44caddcd-f92c-403d-c67b-ec73515ab538"
      },
      "outputs": [
        {
          "data": {
            "text/plain": [
              "array([947, 572, 212, 770, 334, 598, 851, 702, 831, 548, 419, 209, 754,\n",
              "       939, 925,   9, 746, 492, 211, 744, 727, 935, 286,  10, 782, 972,\n",
              "       815, 339, 829,  38, 259, 349, 953, 479, 439, 935, 239, 446, 800,\n",
              "       712, 427, 625, 668, 908, 527, 851, 768, 912, 396, 589, 304, 565,\n",
              "       109,  41, 494, 238, 357, 906, 349, 166, 378, 405, 175, 777, 481,\n",
              "       111,  79, 674, 553, 992, 747, 527, 491, 385, 512, 360, 482,   5,\n",
              "       196, 478,  36,   6,  91, 366, 898,  22, 721, 464, 593, 111, 230,\n",
              "       560, 925, 160, 858, 653, 789, 919, 617,  66])"
            ]
          },
          "execution_count": 90,
          "metadata": {},
          "output_type": "execute_result"
        }
      ],
      "source": [
        "ar_q9"
      ]
    },
    {
      "cell_type": "code",
      "execution_count": null,
      "id": "3c1efacb-ff37-4eab-9e2a-1b1de92e4e92",
      "metadata": {
        "id": "3c1efacb-ff37-4eab-9e2a-1b1de92e4e92"
      },
      "outputs": [],
      "source": [
        "def find_prime(arr):\n",
        "    prime=[]\n",
        "    for i in arr:\n",
        "        if i==1:\n",
        "            continue\n",
        "        if i==2:\n",
        "            prime.append(i)\n",
        "            continue\n",
        "        is_prime=True\n",
        "        for j in range(2,int(i/2)+1):\n",
        "            if i%j==0:\n",
        "                is_prime=False\n",
        "                break\n",
        "        if is_prime:\n",
        "            prime.append(i)\n",
        "\n",
        "    return prime"
      ]
    },
    {
      "cell_type": "code",
      "execution_count": null,
      "id": "b2b577c4-afec-4d9e-a2f6-f7becadb9d49",
      "metadata": {
        "id": "b2b577c4-afec-4d9e-a2f6-f7becadb9d49",
        "outputId": "cb380138-ca33-4db0-8937-1def58caa926"
      },
      "outputs": [
        {
          "data": {
            "text/plain": [
              "array([947, 419, 211, 727, 829, 349, 953, 479, 439, 239, 109,  41, 349,\n",
              "        79, 491,   5, 593, 653, 919, 617])"
            ]
          },
          "execution_count": 92,
          "metadata": {},
          "output_type": "execute_result"
        }
      ],
      "source": [
        "l=find_prime(ar_q9)\n",
        "prime_arr=np.array(l)\n",
        "prime_arr"
      ]
    },
    {
      "cell_type": "markdown",
      "id": "a7790103-16e0-4bdc-af4c-0bc240bf7189",
      "metadata": {
        "id": "a7790103-16e0-4bdc-af4c-0bc240bf7189"
      },
      "source": [
        "#### Q10.  Create a NumPy array representing daily temperatures for a month. Calculate and display the weekly averages."
      ]
    },
    {
      "cell_type": "code",
      "execution_count": null,
      "id": "9ea6bf0a-0130-4eb5-91bf-d966f9f61cc7",
      "metadata": {
        "id": "9ea6bf0a-0130-4eb5-91bf-d966f9f61cc7"
      },
      "outputs": [],
      "source": [
        "#suppose the temperature is between 20-35 degree celcius\n",
        "temp=np.random.uniform(20,35,30)"
      ]
    },
    {
      "cell_type": "code",
      "execution_count": null,
      "id": "e853120f-ee6e-4b63-acd9-cb74fb050707",
      "metadata": {
        "id": "e853120f-ee6e-4b63-acd9-cb74fb050707"
      },
      "outputs": [],
      "source": [
        "temperature=np.round(temp,2)"
      ]
    },
    {
      "cell_type": "code",
      "execution_count": null,
      "id": "3936146b-dbb0-4393-aadf-8d7070600810",
      "metadata": {
        "id": "3936146b-dbb0-4393-aadf-8d7070600810",
        "outputId": "6f23048c-1013-48fe-f851-29f93f5a926c"
      },
      "outputs": [
        {
          "data": {
            "text/plain": [
              "array([29.08, 29.25, 20.8 , 23.93, 34.06, 26.05, 29.08, 26.31, 25.25,\n",
              "       23.18, 21.79, 30.9 , 20.5 , 24.16, 33.63, 29.92, 30.91, 30.63,\n",
              "       32.32, 29.66, 24.45, 33.26, 25.16, 29.23, 34.09, 31.01, 28.69,\n",
              "       24.42, 23.25, 30.49])"
            ]
          },
          "execution_count": 98,
          "metadata": {},
          "output_type": "execute_result"
        }
      ],
      "source": [
        "temperature"
      ]
    },
    {
      "cell_type": "code",
      "execution_count": null,
      "id": "5c302a1f-5068-4cd4-960e-d42b746ed918",
      "metadata": {
        "id": "5c302a1f-5068-4cd4-960e-d42b746ed918",
        "outputId": "4fa4d6c1-d0c8-4a0d-af2b-3430d4e18273"
      },
      "outputs": [
        {
          "name": "stdout",
          "output_type": "stream",
          "text": [
            "[29.08 29.25 20.8  23.93 34.06 26.05 29.08]\n",
            "The average temp of week 1 is : 27.46\n"
          ]
        }
      ],
      "source": [
        "temp_week1=temperature[0:7]\n",
        "print(temp_week1)\n",
        "\n",
        "# avearge temp of week 1\n",
        "week_1_avg=np.mean(temp_week1)\n",
        "\n",
        "print(\"The average temp of week 1 is :\", round(week_1_avg,2))"
      ]
    },
    {
      "cell_type": "code",
      "execution_count": null,
      "id": "7f71c767-ba4e-4d1f-b445-d52786d22f4e",
      "metadata": {
        "id": "7f71c767-ba4e-4d1f-b445-d52786d22f4e",
        "outputId": "50a931f3-4138-4b40-b8ce-e1a11a97a5a3"
      },
      "outputs": [
        {
          "name": "stdout",
          "output_type": "stream",
          "text": [
            "[26.31 25.25 23.18 21.79 30.9  20.5  24.16]\n",
            "The average temp of week 1 is : 24.58\n"
          ]
        }
      ],
      "source": [
        "temp_week2=temperature[7:14]\n",
        "print(temp_week2)\n",
        "\n",
        "#average temperature of week 2\n",
        "week_2_avg=np.mean(temp_week2)\n",
        "\n",
        "print(\"The average temp of week 1 is :\", round(week_2_avg,2))"
      ]
    },
    {
      "cell_type": "code",
      "execution_count": null,
      "id": "29b932cd-3e13-4acb-af0d-58e0f122a26f",
      "metadata": {
        "id": "29b932cd-3e13-4acb-af0d-58e0f122a26f",
        "outputId": "c870b39d-2bc7-43c4-9330-feb9d9520e61"
      },
      "outputs": [
        {
          "name": "stdout",
          "output_type": "stream",
          "text": [
            "[33.63 29.92 30.91 30.63 32.32 29.66 24.45]\n",
            "The average temp of week 1 is : 30.22\n"
          ]
        }
      ],
      "source": [
        "temp_week3=temperature[14:21]\n",
        "print(temp_week3)\n",
        "\n",
        "#average temperature of week 3\n",
        "week_3_avg=np.mean(temp_week3)\n",
        "\n",
        "print(\"The average temp of week 1 is :\", round(week_3_avg,2))"
      ]
    },
    {
      "cell_type": "code",
      "execution_count": null,
      "id": "7a03a9de-9ecc-40d6-b22f-4b2b900c5de3",
      "metadata": {
        "id": "7a03a9de-9ecc-40d6-b22f-4b2b900c5de3",
        "outputId": "5f3b59e0-f96b-49da-ce30-e91617be4528"
      },
      "outputs": [
        {
          "name": "stdout",
          "output_type": "stream",
          "text": [
            "[33.26 25.16 29.23 34.09 31.01 28.69 24.42 23.25 30.49]\n",
            "The average temp of week 1 is : 28.84\n"
          ]
        }
      ],
      "source": [
        "temp_week4=temperature[21:31]\n",
        "print(temp_week4)\n",
        "\n",
        "#average temperature of week 4\n",
        "week_4_avg=np.mean(temp_week4)\n",
        "\n",
        "print(\"The average temp of week 1 is :\", round(week_4_avg,2))"
      ]
    },
    {
      "cell_type": "code",
      "execution_count": null,
      "id": "51b4e93d-38a1-4097-bfad-f92ae6b30426",
      "metadata": {
        "id": "51b4e93d-38a1-4097-bfad-f92ae6b30426"
      },
      "outputs": [],
      "source": []
    }
  ],
  "metadata": {
    "kernelspec": {
      "display_name": "Python 3 (ipykernel)",
      "language": "python",
      "name": "python3"
    },
    "language_info": {
      "codemirror_mode": {
        "name": "ipython",
        "version": 3
      },
      "file_extension": ".py",
      "mimetype": "text/x-python",
      "name": "python",
      "nbconvert_exporter": "python",
      "pygments_lexer": "ipython3",
      "version": "3.12.4"
    },
    "colab": {
      "provenance": [],
      "include_colab_link": true
    }
  },
  "nbformat": 4,
  "nbformat_minor": 5
}