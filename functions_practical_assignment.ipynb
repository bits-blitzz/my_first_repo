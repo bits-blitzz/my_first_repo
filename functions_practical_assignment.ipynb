{
 "cells": [
  {
   "cell_type": "markdown",
   "id": "ff3f3830-5492-48f4-8207-67282c3e5bc4",
   "metadata": {},
   "source": [
    "##### Q1. Write a Python function that takes a list of numbers as input and returns the sum of all even numbers in \n",
    "the list."
   ]
  },
  {
   "cell_type": "code",
   "execution_count": 13,
   "id": "48102427-a4a4-4dd9-bed1-351fb53d6870",
   "metadata": {},
   "outputs": [
    {
     "data": {
      "text/plain": [
       "18"
      ]
     },
     "execution_count": 13,
     "metadata": {},
     "output_type": "execute_result"
    }
   ],
   "source": [
    "def sum_even(n):\n",
    "    sum=0\n",
    "    for i in n:\n",
    "        if i%2==0:\n",
    "            sum=sum+i\n",
    "    return sum\n",
    "    \n",
    "check=[3,4,5,6,7,8]\n",
    "sum_even(check)"
   ]
  },
  {
   "cell_type": "code",
   "execution_count": 21,
   "id": "73db6690-213d-414a-88b2-22b6183d6fec",
   "metadata": {},
   "outputs": [
    {
     "name": "stdin",
     "output_type": "stream",
     "text": [
      "Please enter a list of number separated with comma 3,4,5,6,7,8\n"
     ]
    },
    {
     "data": {
      "text/plain": [
       "18"
      ]
     },
     "execution_count": 21,
     "metadata": {},
     "output_type": "execute_result"
    }
   ],
   "source": [
    "#By taking input \n",
    "lis=input(\"Please enter a list of number separated with comma\").split(\",\")\n",
    "lis=list(map(int,lis))\n",
    "sum_even(lis)"
   ]
  },
  {
   "cell_type": "markdown",
   "id": "d80ab6bc-a32b-4831-801a-b4d21e113d64",
   "metadata": {},
   "source": [
    "#####  Q2. Create a Python function that accepts a string and returns the reverse of that string"
   ]
  },
  {
   "cell_type": "code",
   "execution_count": 12,
   "id": "f0a193ef-59bb-4d17-b430-7e7a2742bcf1",
   "metadata": {},
   "outputs": [
    {
     "data": {
      "text/plain": [
       "'nataR'"
      ]
     },
     "execution_count": 12,
     "metadata": {},
     "output_type": "execute_result"
    }
   ],
   "source": [
    "def rev_str(m):\n",
    "    re_str=\"\"\n",
    "    for i in m:\n",
    "        re_str=i+re_str\n",
    "    return re_str\n",
    "\n",
    "rev_str(\"Ratan\")"
   ]
  },
  {
   "cell_type": "code",
   "execution_count": 23,
   "id": "af49835e-2a48-438a-9e0c-d35b1af62701",
   "metadata": {},
   "outputs": [
    {
     "name": "stdin",
     "output_type": "stream",
     "text": [
      "Please Enter a string Hello Sir! have I done the assignment well?\n"
     ]
    },
    {
     "data": {
      "text/plain": [
       "'?llew tnemngissa eht enod I evah !riS olleH'"
      ]
     },
     "execution_count": 23,
     "metadata": {},
     "output_type": "execute_result"
    }
   ],
   "source": [
    "m=input(\"Please Enter a string\")\n",
    "rev_str(m)"
   ]
  },
  {
   "cell_type": "markdown",
   "id": "3f2e7335-4d4c-406f-842e-474f4b6ec00b",
   "metadata": {},
   "source": [
    "##### Q3.Implement a Python function that takes a list of integers and returns a new list containing the squares of \n",
    "each number."
   ]
  },
  {
   "cell_type": "code",
   "execution_count": 24,
   "id": "0c383680-744c-4f2f-8424-76285b6befa7",
   "metadata": {},
   "outputs": [],
   "source": [
    "def sq_lis(lis):\n",
    "    squared_list=[]\n",
    "    for i in lis:\n",
    "        squared_list.append(i**2)\n",
    "    return squared_list"
   ]
  },
  {
   "cell_type": "code",
   "execution_count": 29,
   "id": "1f398c20-5b92-429b-8c26-87a493cd28a8",
   "metadata": {},
   "outputs": [
    {
     "name": "stdin",
     "output_type": "stream",
     "text": [
      "Please enter a list of number separated with comma 2,3,4,5,6\n"
     ]
    },
    {
     "data": {
      "text/plain": [
       "[4, 9, 16, 25, 36]"
      ]
     },
     "execution_count": 29,
     "metadata": {},
     "output_type": "execute_result"
    }
   ],
   "source": [
    "#By taking input \n",
    "lis1=input(\"Please enter a list of number separated with comma\").split(\",\")\n",
    "lis1=list(map(int,lis1))\n",
    "sq_lis(lis1)"
   ]
  },
  {
   "cell_type": "markdown",
   "id": "915a59b6-5fce-4f07-b1a7-8ccd47d382b5",
   "metadata": {},
   "source": [
    "##### Q4. Write a Python function that checks if a given number is prime or not from 1 to 200"
   ]
  },
  {
   "cell_type": "code",
   "execution_count": 42,
   "id": "9d7886f5-b93a-41ac-b99d-e8a33243bffd",
   "metadata": {},
   "outputs": [
    {
     "name": "stdin",
     "output_type": "stream",
     "text": [
      "Please Enter a number between 1 to 200 3\n"
     ]
    },
    {
     "data": {
      "text/plain": [
       "'The number is Prime'"
      ]
     },
     "execution_count": 42,
     "metadata": {},
     "output_type": "execute_result"
    }
   ],
   "source": [
    "def is_prime(n):\n",
    "    if n==1:\n",
    "        return \"It is niether prime nor composite\"\n",
    "    if n==2:\n",
    "        return \"It is a prime number\"\n",
    "    for i in range(2,int(n/2)+1):\n",
    "        if n%i==0:\n",
    "            return(\"It is not Prime number\")\n",
    "\n",
    "    return \"The number is Prime\"\n",
    "\n",
    "num=int(input(\"Please Enter a number between 1 to 200\"))\n",
    "is_prime(num)"
   ]
  },
  {
   "cell_type": "markdown",
   "id": "ff360e3f-5004-45fb-8d18-3f1a92b07e2b",
   "metadata": {},
   "source": [
    "#### Q5. Create an iterator class in Python that generates the Fibonacci sequence up to a specified number of \n",
    "terms."
   ]
  },
  {
   "cell_type": "code",
   "execution_count": 54,
   "id": "bb403841-d9f4-40ba-8db3-d4b8d3eb5707",
   "metadata": {},
   "outputs": [
    {
     "name": "stdin",
     "output_type": "stream",
     "text": [
      "Please enter number of terms 10\n"
     ]
    },
    {
     "data": {
      "text/plain": [
       "<list_iterator at 0x2cdb0961150>"
      ]
     },
     "execution_count": 54,
     "metadata": {},
     "output_type": "execute_result"
    }
   ],
   "source": [
    "def fib(n):\n",
    "    a=0\n",
    "    b=1\n",
    "    li=[]\n",
    "    for i in range(n):\n",
    "        li.append(a)\n",
    "        temp=a\n",
    "        a=b\n",
    "        b=temp+b\n",
    "    return li\n",
    "    \n",
    "inp=int(input(\"Please enter number of terms\"))\n",
    "iter(fib(inp))"
   ]
  },
  {
   "cell_type": "code",
   "execution_count": 61,
   "id": "d7db4ac3-aff7-4015-90fa-9d5e5e59e3a7",
   "metadata": {},
   "outputs": [],
   "source": [
    "iter_obj=iter(fib(inp))"
   ]
  },
  {
   "cell_type": "code",
   "execution_count": 62,
   "id": "dd760b54-e487-42cf-813f-5de84a4ca722",
   "metadata": {},
   "outputs": [
    {
     "data": {
      "text/plain": [
       "0"
      ]
     },
     "execution_count": 62,
     "metadata": {},
     "output_type": "execute_result"
    }
   ],
   "source": [
    "next(iter_obj)"
   ]
  },
  {
   "cell_type": "code",
   "execution_count": 63,
   "id": "496adfac-f1c7-493c-a9ac-c80f2cc27944",
   "metadata": {},
   "outputs": [
    {
     "data": {
      "text/plain": [
       "1"
      ]
     },
     "execution_count": 63,
     "metadata": {},
     "output_type": "execute_result"
    }
   ],
   "source": [
    "next(iter_obj)"
   ]
  },
  {
   "cell_type": "code",
   "execution_count": 64,
   "id": "16a7c825-ff2c-407a-b72e-7493c4062409",
   "metadata": {},
   "outputs": [
    {
     "data": {
      "text/plain": [
       "1"
      ]
     },
     "execution_count": 64,
     "metadata": {},
     "output_type": "execute_result"
    }
   ],
   "source": [
    "next(iter_obj)"
   ]
  },
  {
   "cell_type": "markdown",
   "id": "7cddda1e-f1bf-4f8d-b77a-409bec7d323f",
   "metadata": {},
   "source": [
    "#### Q6. Write a generator function in Python that yields the powers of 2 up to a given exponent."
   ]
  },
  {
   "cell_type": "code",
   "execution_count": 65,
   "id": "944c20b6-fb73-4563-8b04-9327c3c8fb5b",
   "metadata": {},
   "outputs": [
    {
     "data": {
      "text/plain": [
       "1"
      ]
     },
     "execution_count": 65,
     "metadata": {},
     "output_type": "execute_result"
    }
   ],
   "source": [
    "def two_pow(n):\n",
    "    for i in range(n+1):\n",
    "        yield 2**i\n",
    "\n",
    "j=two_pow(4)\n",
    "\n",
    "next(j)"
   ]
  },
  {
   "cell_type": "code",
   "execution_count": 66,
   "id": "0c0a9e46-578f-4ea4-8921-a993a7d06ec3",
   "metadata": {},
   "outputs": [
    {
     "data": {
      "text/plain": [
       "2"
      ]
     },
     "execution_count": 66,
     "metadata": {},
     "output_type": "execute_result"
    }
   ],
   "source": [
    "next(j)"
   ]
  },
  {
   "cell_type": "code",
   "execution_count": 67,
   "id": "f8c7c2bb-bef6-478f-89c9-54224c1ccee8",
   "metadata": {},
   "outputs": [
    {
     "data": {
      "text/plain": [
       "4"
      ]
     },
     "execution_count": 67,
     "metadata": {},
     "output_type": "execute_result"
    }
   ],
   "source": [
    "next(j)"
   ]
  },
  {
   "cell_type": "markdown",
   "id": "4300f560-9a1e-4fa5-8c73-bf5df80189bf",
   "metadata": {},
   "source": [
    "#### Q7. Implement a generator function that reads a file line by line and yields each line as a string."
   ]
  },
  {
   "cell_type": "code",
   "execution_count": 18,
   "id": "efb310b7-5871-4162-a4dd-8b679ec6a1d6",
   "metadata": {},
   "outputs": [
    {
     "data": {
      "text/plain": [
       "<generator object read_lines_until_period at 0x000001CBF010E980>"
      ]
     },
     "execution_count": 18,
     "metadata": {},
     "output_type": "execute_result"
    }
   ],
   "source": [
    "def read_lines_until_period(file_path):\n",
    "    with open(file_path, 'r') as file:\n",
    "        for line in file:\n",
    "            # Yield the part of the line up to the first full stop\n",
    "            yield line.split('.')[0] + '.' if '.' in line else line.strip()\n",
    "\n",
    "\n",
    "read_lines_until_period('example.txt')"
   ]
  },
  {
   "cell_type": "code",
   "execution_count": 24,
   "id": "bfad76c0-6c91-4c8b-a8b0-504b94642e7d",
   "metadata": {},
   "outputs": [
    {
     "data": {
      "text/plain": [
       "'Machine learning (ML) has revolutionized the way we approach data analysis and problem-solving across various fields.'"
      ]
     },
     "execution_count": 24,
     "metadata": {},
     "output_type": "execute_result"
    }
   ],
   "source": [
    "o=read_lines_until_period('example.txt')\n",
    "next(o)"
   ]
  },
  {
   "cell_type": "markdown",
   "id": "665a3a7b-ae8b-4089-bedc-0309f7c27eed",
   "metadata": {},
   "source": [
    "#### Q8. Use a lambda function in Python to sort a list of tuples based on the second element of each tuple."
   ]
  },
  {
   "cell_type": "code",
   "execution_count": 32,
   "id": "2f8c9556-f742-428e-a827-b36b64c6822a",
   "metadata": {},
   "outputs": [],
   "source": [
    "l=[(2,3,5),(3,1,2),(9,2,7),(2,4,6)]\n",
    "\n",
    "sorted_list=sorted(l,key=lambda x:x[1])"
   ]
  },
  {
   "cell_type": "code",
   "execution_count": 33,
   "id": "aa3e2e57-8f57-4fe3-b31e-6c77a05197ea",
   "metadata": {},
   "outputs": [
    {
     "data": {
      "text/plain": [
       "[(3, 1, 2), (9, 2, 7), (2, 3, 5), (2, 4, 6)]"
      ]
     },
     "execution_count": 33,
     "metadata": {},
     "output_type": "execute_result"
    }
   ],
   "source": [
    "sorted_list"
   ]
  },
  {
   "cell_type": "markdown",
   "id": "dace0b82-fc16-4c54-86e8-2dd143b543ee",
   "metadata": {},
   "source": [
    "#### Q9.Write a Python program that uses `map()` to convert a list of temperatures from Celsius to Fahrenheit"
   ]
  },
  {
   "cell_type": "code",
   "execution_count": 37,
   "id": "67c3b7a7-5e28-466e-bba5-2e968d857e89",
   "metadata": {},
   "outputs": [],
   "source": [
    "converter=lambda x: (x*(9/5))+32\n",
    "\n",
    "temp_in_cel=[32,0,100,101]\n",
    "temp_in_faren=list( map(converter,temp_in_cel))"
   ]
  },
  {
   "cell_type": "code",
   "execution_count": 38,
   "id": "33c73d46-de72-45ce-a3b1-846d40a3bafd",
   "metadata": {},
   "outputs": [
    {
     "data": {
      "text/plain": [
       "[89.6, 32.0, 212.0, 213.8]"
      ]
     },
     "execution_count": 38,
     "metadata": {},
     "output_type": "execute_result"
    }
   ],
   "source": [
    "temp_in_faren"
   ]
  },
  {
   "cell_type": "markdown",
   "id": "6ccd746d-b0d4-44f0-9816-c4e4e846f1b1",
   "metadata": {},
   "source": [
    "#### Q10. Create a Python program that uses `filter()` to remove all the vowels from a given string"
   ]
  },
  {
   "cell_type": "code",
   "execution_count": 50,
   "id": "59832688-2644-49bb-a8f9-f7e64fa8c93b",
   "metadata": {},
   "outputs": [],
   "source": [
    "given_str=\"Hlo Sir! have I made the assignment good?\"\n",
    "vowels=\"aeiouAEIOU\"\n",
    "final=''.join(filter(lambda x : x not in vowels,given_str))"
   ]
  },
  {
   "cell_type": "code",
   "execution_count": 51,
   "id": "06a1bf85-361e-44c9-b857-74de65fa85a5",
   "metadata": {},
   "outputs": [
    {
     "name": "stdout",
     "output_type": "stream",
     "text": [
      "Hl Sr! hv  md th ssgnmnt gd?\n"
     ]
    }
   ],
   "source": [
    "print(final)"
   ]
  },
  {
   "cell_type": "markdown",
   "id": "36df388b-61b1-44fc-9f5a-90df475304a2",
   "metadata": {},
   "source": [
    "#### Q11."
   ]
  },
  {
   "cell_type": "code",
   "execution_count": 59,
   "id": "e7f87f49-0863-4bed-97df-95059e952175",
   "metadata": {},
   "outputs": [],
   "source": [
    "accounting_list=[[34587,\"Learning Python,Mark Lutz\", 4, 40.95],\n",
    "                 [98762 ,\"Programming Python , Mark Lutz\", 5, 56.80],\n",
    "                 [77226,\"Head First Python, Paul Barry\", 3, 32.95],\n",
    "                 [88112,\"Einfuhurng in Python 3, Bernd Klein\",3,24.99]]\n",
    "\n",
    "def bill(accounting_list):\n",
    "    bill_list=[]\n",
    "    for i in accounting_list:\n",
    "        order_number= i[0]\n",
    "        price_per_item=i[3]\n",
    "        quantity=i[2]\n",
    "        \n",
    "        tot_price= price_per_item*quantity\n",
    "\n",
    "        if tot_price<100:\n",
    "            tot_price+=10\n",
    "        \n",
    "        bill_list.append((order_number,round(tot_price,2)))\n",
    "\n",
    "    return bill_list"
   ]
  },
  {
   "cell_type": "code",
   "execution_count": 60,
   "id": "ade4d674-b4f9-4a35-925e-86187261e7b3",
   "metadata": {},
   "outputs": [
    {
     "data": {
      "text/plain": [
       "[(34587, 163.8), (98762, 284.0), (77226, 108.85), (88112, 84.97)]"
      ]
     },
     "execution_count": 60,
     "metadata": {},
     "output_type": "execute_result"
    }
   ],
   "source": [
    "bill(accounting_list)"
   ]
  },
  {
   "cell_type": "markdown",
   "id": "eecde5f2-0068-481b-9624-391909781fbb",
   "metadata": {},
   "source": [
    "##### USING LAMBDA AND MAP"
   ]
  },
  {
   "cell_type": "code",
   "execution_count": 64,
   "id": "ec48a78c-6a00-4c47-a39b-2f8055019a65",
   "metadata": {},
   "outputs": [],
   "source": [
    "l= [[34587,\"Learning Python,Mark Lutz\", 4, 40.95],\n",
    "                 [98762 ,\"Programming Python , Mark Lutz\", 5, 56.80],\n",
    "                 [77226,\"Head First Python, Paul Barry\", 3, 32.95],\n",
    "                 [88112,\"Einfuhurng in Python 3, Bernd Klein\",3,24.99]]\n",
    "\n",
    "bill=lambda l: (l[0], (l[2]*l[3])+(3 if l[2]*l[3]<100 else 0))\n",
    "\n",
    "bill_final = list(map(bill,l))"
   ]
  },
  {
   "cell_type": "code",
   "execution_count": 65,
   "id": "1b5fe994-0df8-483e-89f8-93547ab5c754",
   "metadata": {},
   "outputs": [
    {
     "data": {
      "text/plain": [
       "[(34587, 163.8), (98762, 284.0), (77226, 101.85000000000001), (88112, 77.97)]"
      ]
     },
     "execution_count": 65,
     "metadata": {},
     "output_type": "execute_result"
    }
   ],
   "source": [
    "bill_final"
   ]
  },
  {
   "cell_type": "code",
   "execution_count": null,
   "id": "b6637038-8dd7-4526-ad32-696022d34abb",
   "metadata": {},
   "outputs": [],
   "source": []
  }
 ],
 "metadata": {
  "kernelspec": {
   "display_name": "Python 3 (ipykernel)",
   "language": "python",
   "name": "python3"
  },
  "language_info": {
   "codemirror_mode": {
    "name": "ipython",
    "version": 3
   },
   "file_extension": ".py",
   "mimetype": "text/x-python",
   "name": "python",
   "nbconvert_exporter": "python",
   "pygments_lexer": "ipython3",
   "version": "3.12.4"
  }
 },
 "nbformat": 4,
 "nbformat_minor": 5
}
