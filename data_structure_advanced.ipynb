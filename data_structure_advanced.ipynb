{
  "cells": [
    {
      "cell_type": "markdown",
      "metadata": {
        "id": "view-in-github",
        "colab_type": "text"
      },
      "source": [
        "<a href=\"https://colab.research.google.com/github/bits-blitzz/my_first_repo/blob/main/data_structure_advanced.ipynb\" target=\"_parent\"><img src=\"https://colab.research.google.com/assets/colab-badge.svg\" alt=\"Open In Colab\"/></a>"
      ]
    },
    {
      "cell_type": "markdown",
      "id": "effc1c06-c803-40cb-ab4f-85dbfd66c837",
      "metadata": {
        "id": "effc1c06-c803-40cb-ab4f-85dbfd66c837"
      },
      "source": [
        "#### Q1. Write a code to reverse a string"
      ]
    },
    {
      "cell_type": "code",
      "execution_count": null,
      "id": "94006af0-98b6-4b6a-99a1-66b42f4be77b",
      "metadata": {
        "id": "94006af0-98b6-4b6a-99a1-66b42f4be77b",
        "outputId": "4297375a-5d8d-40d8-d58e-2e43762cf4c2"
      },
      "outputs": [
        {
          "data": {
            "text/plain": [
              "'!riS gninevE dooG'"
            ]
          },
          "execution_count": 3,
          "metadata": {},
          "output_type": "execute_result"
        }
      ],
      "source": [
        "str=\"Good Evening Sir!\"\n",
        "str[::-1]"
      ]
    },
    {
      "cell_type": "markdown",
      "id": "def565b0-f4ed-4f73-a1b7-68063facd438",
      "metadata": {
        "id": "def565b0-f4ed-4f73-a1b7-68063facd438"
      },
      "source": [
        "#### Q2. Write a code to count the number of vowels in a string"
      ]
    },
    {
      "cell_type": "code",
      "execution_count": null,
      "id": "3daf4b06-83bd-4a44-bad8-37e7a544e155",
      "metadata": {
        "id": "3daf4b06-83bd-4a44-bad8-37e7a544e155"
      },
      "outputs": [],
      "source": [
        "str='A fox jump'"
      ]
    },
    {
      "cell_type": "code",
      "execution_count": null,
      "id": "cf7e7268-02dd-47db-a900-71e22c6cf934",
      "metadata": {
        "id": "cf7e7268-02dd-47db-a900-71e22c6cf934",
        "outputId": "bf4e97f3-fba5-41b6-9504-f28e2968f68b"
      },
      "outputs": [
        {
          "data": {
            "text/plain": [
              "3"
            ]
          },
          "execution_count": 6,
          "metadata": {},
          "output_type": "execute_result"
        }
      ],
      "source": [
        "count=0\n",
        "word='aeiouAEIOU'\n",
        "for i in str:\n",
        "    for j in word:\n",
        "        if i==j:\n",
        "            count+=1\n",
        "count"
      ]
    },
    {
      "cell_type": "markdown",
      "id": "9f9eee58-b54c-4d7a-8a4b-8a2d3b2c3d10",
      "metadata": {
        "id": "9f9eee58-b54c-4d7a-8a4b-8a2d3b2c3d10"
      },
      "source": [
        "#### Q3. Write a code to check if a given string is a palindrome or not?"
      ]
    },
    {
      "cell_type": "code",
      "execution_count": null,
      "id": "2194e384-c6d3-49dd-bce1-c362d5f6038f",
      "metadata": {
        "id": "2194e384-c6d3-49dd-bce1-c362d5f6038f",
        "outputId": "cef75a95-df0a-44ef-f276-26113fd9c399"
      },
      "outputs": [
        {
          "name": "stdout",
          "output_type": "stream",
          "text": [
            "It is a palindrome\n"
          ]
        }
      ],
      "source": [
        "word= 'noon'\n",
        "rev_wo=word[::-1]\n",
        "\n",
        "if word==rev_wo:\n",
        "    print(\"It is a palindrome\")\n",
        "else:\n",
        "    print(\"It is not!\")"
      ]
    },
    {
      "cell_type": "markdown",
      "id": "87afa843-4012-4116-bfb0-ef91aa5c65d9",
      "metadata": {
        "id": "87afa843-4012-4116-bfb0-ef91aa5c65d9"
      },
      "source": [
        "#### Q4. Write a code to check if two given strings are anagrams of each other?\n",
        "\n"
      ]
    },
    {
      "cell_type": "code",
      "execution_count": null,
      "id": "968bd743-88d3-4ecb-8189-2501d92ef2db",
      "metadata": {
        "id": "968bd743-88d3-4ecb-8189-2501d92ef2db",
        "outputId": "f7ab6dec-7289-44fb-8213-b80e0d6821f3"
      },
      "outputs": [
        {
          "name": "stdout",
          "output_type": "stream",
          "text": [
            "['a', 'a', 'c', 'd', 'e', 'i', 'i', 'l', 'm', 'n', 'o', 'p', 't']\n",
            "['a', 'a', 'c', 'd', 'e', 'i', 'i', 'l', 'm', 'n', 'o', 'p', 't']\n",
            "Yes! Given Strings are anagrams\n"
          ]
        }
      ],
      "source": [
        "sent1=\"A decimal point\"\n",
        "sent2=\"Im a dot in place\"\n",
        "ch1=''.join(sent1.split()).lower()\n",
        "ch2=''.join(sent2.split()).lower()\n",
        "final_sent1=sorted(ch1)\n",
        "print(final_sent)\n",
        "final_sent2=sorted(ch2)\n",
        "print(final_sent2)\n",
        "\n",
        "if final_sent1==final_sent2:\n",
        "    print(\"Yes! Given Strings are anagrams\")\n",
        "else:\n",
        "    print(\"No, they are not anagrams\")"
      ]
    },
    {
      "cell_type": "markdown",
      "id": "3dc20e7d-ba68-41b2-8ac3-1787d5818a64",
      "metadata": {
        "id": "3dc20e7d-ba68-41b2-8ac3-1787d5818a64"
      },
      "source": [
        "#### Q5. Write a code to find all occurrences of a given substring within another string."
      ]
    },
    {
      "cell_type": "code",
      "execution_count": null,
      "id": "8fe89ffe-1315-4fb4-b317-d5a01c30c436",
      "metadata": {
        "id": "8fe89ffe-1315-4fb4-b317-d5a01c30c436",
        "outputId": "3a36b040-8138-45fd-8d42-55fb408519f7"
      },
      "outputs": [
        {
          "name": "stdout",
          "output_type": "stream",
          "text": [
            "[10, 32]\n"
          ]
        }
      ],
      "source": [
        "def find_all_occurrences(text, substring):\n",
        "    positions = []\n",
        "    start = 0\n",
        "\n",
        "    while start < len(text):\n",
        "        start = text.find(substring, start)\n",
        "\n",
        "        if start == -1:\n",
        "            break\n",
        "\n",
        "        positions.append(start)\n",
        "        start += 1\n",
        "    return positions\n",
        "text = \"I'm doing assignment. It is the assignment of Data Structure\"\n",
        "substring = \"assignment\"\n",
        "positions = find_all_occurrences(text, substring)\n",
        "print(positions)\n"
      ]
    },
    {
      "cell_type": "markdown",
      "id": "024f1c57-8d40-4829-84c8-7cb8d50034bb",
      "metadata": {
        "id": "024f1c57-8d40-4829-84c8-7cb8d50034bb"
      },
      "source": [
        "#### Q6. Write a code to perform basic string compression using the counts of repeated characters"
      ]
    },
    {
      "cell_type": "code",
      "execution_count": null,
      "id": "d06330a3-ba37-4896-a4c2-14bed1141629",
      "metadata": {
        "id": "d06330a3-ba37-4896-a4c2-14bed1141629",
        "outputId": "64bf73e4-ce30-483b-a137-b53f1f24dcec"
      },
      "outputs": [
        {
          "name": "stdout",
          "output_type": "stream",
          "text": [
            "z2o1k3l1n4\n"
          ]
        }
      ],
      "source": [
        "def compress_string(s):\n",
        "    compressed = []\n",
        "    count = 1\n",
        "\n",
        "    for i in range(1, len(s)):\n",
        "        if s[i] == s[i - 1]:\n",
        "            count += 1\n",
        "        else:\n",
        "            compressed.append(s[i - 1] + str(count))\n",
        "            count = 1\n",
        "\n",
        "    compressed.append(s[-1] + str(count))\n",
        "\n",
        "    compressed_string = ''.join(compressed)\n",
        "\n",
        "    return compressed_string if len(compressed_string) < len(s) else s\n",
        "\n",
        "input_string = \"zzokkklnnnn\"\n",
        "compressed_string = compress_string(input_string)\n",
        "print(compressed_string)\n"
      ]
    },
    {
      "cell_type": "markdown",
      "id": "c6558e1b-1d8e-4b9b-895c-68a5fd6f754c",
      "metadata": {
        "id": "c6558e1b-1d8e-4b9b-895c-68a5fd6f754c"
      },
      "source": [
        "#### Q7. Write a code to determine if a string has all unique characters?"
      ]
    },
    {
      "cell_type": "code",
      "execution_count": null,
      "id": "2367fe3a-b693-44b9-8d7f-ee8bebd016f1",
      "metadata": {
        "id": "2367fe3a-b693-44b9-8d7f-ee8bebd016f1",
        "outputId": "8b173b5a-3558-46b2-c1f3-c824303934a2"
      },
      "outputs": [
        {
          "name": "stdout",
          "output_type": "stream",
          "text": [
            "True\n",
            "False\n"
          ]
        }
      ],
      "source": [
        "def has_unique_characters(s):\n",
        "    seen_chars = set()\n",
        "\n",
        "    for char in s:\n",
        "        if char in seen_chars:\n",
        "            return False\n",
        "\n",
        "        seen_chars.add(char)\n",
        "\n",
        "    return True\n",
        "\n",
        "string = \"abcdef\"\n",
        "print(has_unique_characters(string))\n",
        "\n",
        "string = \"aabbcc\"\n",
        "print(has_unique_characters(string))\n"
      ]
    },
    {
      "cell_type": "markdown",
      "id": "eb2584bc-c5c4-45e9-8b43-767480761965",
      "metadata": {
        "id": "eb2584bc-c5c4-45e9-8b43-767480761965"
      },
      "source": [
        "#### Q8. Write a code to convert a given string to uppercase or lowercase."
      ]
    },
    {
      "cell_type": "code",
      "execution_count": null,
      "id": "fb13ff89-e978-45d6-bdd6-c4d65a1611a6",
      "metadata": {
        "id": "fb13ff89-e978-45d6-bdd6-c4d65a1611a6",
        "outputId": "cef91906-87c6-4390-c6c9-a742f958f320"
      },
      "outputs": [
        {
          "name": "stdout",
          "output_type": "stream",
          "text": [
            "MY ASSIGNMENT!\n",
            "my assignment!\n"
          ]
        }
      ],
      "source": [
        "def convert_case(s, to_upper=True):\n",
        "    if to_upper:\n",
        "        return s.upper()\n",
        "    else:\n",
        "        return s.lower()\n",
        "\n",
        "string = \"My Assignment!\"\n",
        "\n",
        "print(convert_case(string, to_upper=True))\n",
        "\n",
        "print(convert_case(string, to_upper=False))\n"
      ]
    },
    {
      "cell_type": "markdown",
      "id": "10d9e06e-329c-4fbc-a6a1-30bcc55c47f2",
      "metadata": {
        "id": "10d9e06e-329c-4fbc-a6a1-30bcc55c47f2"
      },
      "source": [
        "#### Q9. Write a code to count the number of words in a string\n"
      ]
    },
    {
      "cell_type": "code",
      "execution_count": null,
      "id": "687c9c2e-257b-43b1-8d3d-34544b3d813e",
      "metadata": {
        "id": "687c9c2e-257b-43b1-8d3d-34544b3d813e",
        "outputId": "d1937792-4e76-495e-915e-5ca3d97f3a1c"
      },
      "outputs": [
        {
          "name": "stdout",
          "output_type": "stream",
          "text": [
            "6\n",
            "4\n"
          ]
        }
      ],
      "source": [
        "def count_words(s):\n",
        "    # Split the string into words based on spaces and count the number of words\n",
        "    words = s.split()\n",
        "    return len(words)\n",
        "\n",
        "# Test the function\n",
        "string = \"Hello, how are you doing today?\"\n",
        "print(count_words(string))  # Output: 6\n",
        "\n",
        "string = \"This is a test.\"\n",
        "print(count_words(string))  # Output: 4\n"
      ]
    },
    {
      "cell_type": "markdown",
      "id": "7630cd75-8ef1-4e18-9696-f8824416ce8b",
      "metadata": {
        "id": "7630cd75-8ef1-4e18-9696-f8824416ce8b"
      },
      "source": [
        "#### Q10. Write a code to concatenate two strings without using the + operator"
      ]
    },
    {
      "cell_type": "code",
      "execution_count": null,
      "id": "1cec9b75-a925-4647-943d-139bfd3a9de8",
      "metadata": {
        "id": "1cec9b75-a925-4647-943d-139bfd3a9de8",
        "outputId": "fd5ba2e2-567c-42ac-ac01-75e2768b1787"
      },
      "outputs": [
        {
          "name": "stdout",
          "output_type": "stream",
          "text": [
            "HelloWorld\n"
          ]
        }
      ],
      "source": [
        "def concatenate_strings(str1, str2):\n",
        "    # Using the join() method to concatenate strings\n",
        "    return ''.join([str1, str2])\n",
        "\n",
        "# Test the function\n",
        "string1 = \"Hello\"\n",
        "string2 = \"World\"\n",
        "print(concatenate_strings(string1, string2))  # Output: \"HelloWorld\"\n"
      ]
    },
    {
      "cell_type": "markdown",
      "id": "c9c933fc-aa69-4129-809c-7bbcd9881b42",
      "metadata": {
        "id": "c9c933fc-aa69-4129-809c-7bbcd9881b42"
      },
      "source": [
        "#### Q11. Write a code to remove all occurrences of a specific element from a list"
      ]
    },
    {
      "cell_type": "code",
      "execution_count": null,
      "id": "3ad8b0b2-970c-4e7b-8da4-0e84e4b2d029",
      "metadata": {
        "id": "3ad8b0b2-970c-4e7b-8da4-0e84e4b2d029",
        "outputId": "8ab9a190-058e-4ee0-d7d2-617d5a90176b"
      },
      "outputs": [
        {
          "name": "stdout",
          "output_type": "stream",
          "text": [
            "[1, 2, 4, 5]\n"
          ]
        }
      ],
      "source": [
        "def remove_element(lst, element):\n",
        "    # Use list comprehension to create a new list without the specific element\n",
        "    return [x for x in lst if x != element]\n",
        "\n",
        "# Test the function\n",
        "my_list = [1, 2, 3, 4, 3, 5, 3]\n",
        "element_to_remove = 3\n",
        "new_list = remove_element(my_list, element_to_remove)\n",
        "print(new_list)  # Output: [1, 2, 4, 5]\n"
      ]
    },
    {
      "cell_type": "markdown",
      "id": "e94f983f-08b5-489d-ba4c-abbc9eb794fd",
      "metadata": {
        "id": "e94f983f-08b5-489d-ba4c-abbc9eb794fd"
      },
      "source": [
        "#### Q12. Implement a code to find the second largest number in a given list of integers"
      ]
    },
    {
      "cell_type": "code",
      "execution_count": null,
      "id": "d22a6853-24a4-4037-8c73-100d561b5c11",
      "metadata": {
        "id": "d22a6853-24a4-4037-8c73-100d561b5c11",
        "outputId": "d21f03c5-8de3-45e0-d2df-82d5a9a92ad1"
      },
      "outputs": [
        {
          "name": "stdout",
          "output_type": "stream",
          "text": [
            "34\n",
            "None\n"
          ]
        }
      ],
      "source": [
        "def second_largest(lst):\n",
        "    # Remove duplicates by converting the list to a set\n",
        "    unique_numbers = set(lst)\n",
        "\n",
        "    # If there are less than two unique numbers, return None\n",
        "    if len(unique_numbers) < 2:\n",
        "        return None\n",
        "\n",
        "    # Sort the unique numbers in descending order and return the second element\n",
        "    sorted_numbers = sorted(unique_numbers, reverse=True)\n",
        "    return sorted_numbers[1]\n",
        "\n",
        "# Test the function\n",
        "my_list = [12, 35, 1, 10, 34, 1]\n",
        "print(second_largest(my_list))  # Output: 34\n",
        "\n",
        "my_list = [5, 5, 5]\n",
        "print(second_largest(my_list))  # Output: None\n"
      ]
    },
    {
      "cell_type": "markdown",
      "id": "0e84354e-4ebf-4dc8-8d3f-acb31e1d1e92",
      "metadata": {
        "id": "0e84354e-4ebf-4dc8-8d3f-acb31e1d1e92"
      },
      "source": [
        "#### Q13. Create a code to count the occurrences of each element in a list and return a dictionary with elements as keys and their counts as values\u0012"
      ]
    },
    {
      "cell_type": "code",
      "execution_count": null,
      "id": "b30539f1-b3d9-47bf-aca1-17d199f13109",
      "metadata": {
        "id": "b30539f1-b3d9-47bf-aca1-17d199f13109",
        "outputId": "b7b1c1ee-8de8-4f65-d5a2-e67698184344"
      },
      "outputs": [
        {
          "name": "stdout",
          "output_type": "stream",
          "text": [
            "{12: 1, 35: 3, 1: 2, 10: 1, 34: 1}\n"
          ]
        }
      ],
      "source": [
        "def count_occurrences(lst):\n",
        "    # Create an empty dictionary to store the counts\n",
        "    count_dict = {}\n",
        "\n",
        "    # Iterate over each element in the list\n",
        "    for element in lst:\n",
        "        # If the element is already in the dictionary, increment its count\n",
        "        if element in count_dict:\n",
        "            count_dict[element] += 1\n",
        "        else:\n",
        "            # If the element is not in the dictionary, add it with count 1\n",
        "            count_dict[element] = 1\n",
        "\n",
        "    return count_dict\n",
        "\n",
        "# Test the function\n",
        "my_list = [12, 35, 1, 10, 34, 1, 35, 35]\n",
        "print(count_occurrences(my_list))\n",
        "# Output: {12: 1, 35: 3, 1: 2, 10: 1, 34: 1}\n"
      ]
    },
    {
      "cell_type": "markdown",
      "id": "7b09bd5a-68e3-4f79-bc02-d93182fbff3d",
      "metadata": {
        "id": "7b09bd5a-68e3-4f79-bc02-d93182fbff3d"
      },
      "source": [
        "#### Q14. Write a code to reverse a list in-place without using any built-in reverse functions.\n"
      ]
    },
    {
      "cell_type": "code",
      "execution_count": null,
      "id": "9ec09229-0186-4094-be84-522ffed607e2",
      "metadata": {
        "id": "9ec09229-0186-4094-be84-522ffed607e2",
        "outputId": "0c3ce375-4319-4af7-d65b-87dd92de85a5"
      },
      "outputs": [
        {
          "name": "stdout",
          "output_type": "stream",
          "text": [
            "[5, 4, 3, 2, 1]\n"
          ]
        }
      ],
      "source": [
        "def reverse_list(lst):\n",
        "    # Initialize pointers at the beginning and end of the list\n",
        "    start = 0\n",
        "    end = len(lst) - 1\n",
        "\n",
        "    # Swap elements from the start and end until they meet in the middle\n",
        "    while start < end:\n",
        "        # Swap the elements at the start and end positions\n",
        "        lst[start], lst[end] = lst[end], lst[start]\n",
        "\n",
        "        # Move the pointers towards the center\n",
        "        start += 1\n",
        "        end -= 1\n",
        "\n",
        "    return lst\n",
        "\n",
        "# Test the function\n",
        "my_list = [1, 2, 3, 4, 5]\n",
        "reverse_list(my_list)\n",
        "print(my_list)  # Output: [5, 4, 3, 2, 1]\n"
      ]
    },
    {
      "cell_type": "markdown",
      "id": "d15f8d6f-f349-40fb-8f52-696bfdd9a811",
      "metadata": {
        "id": "d15f8d6f-f349-40fb-8f52-696bfdd9a811"
      },
      "source": [
        "#### Q15. Implement a code to find and remove duplicates from a list while preserving the original order of elements.\u0012"
      ]
    },
    {
      "cell_type": "code",
      "execution_count": null,
      "id": "e54c7ae3-c896-460f-b1a5-65fa4227903a",
      "metadata": {
        "id": "e54c7ae3-c896-460f-b1a5-65fa4227903a",
        "outputId": "d4a3f9b2-bd86-4ebb-c780-ecd102c285a0"
      },
      "outputs": [
        {
          "name": "stdout",
          "output_type": "stream",
          "text": [
            "[1, 2, 3, 4, 5]\n"
          ]
        }
      ],
      "source": [
        "def remove_duplicates(lst):\n",
        "    # Create an empty set to keep track of seen elements\n",
        "    seen = set()\n",
        "\n",
        "    # Use a list comprehension to filter out duplicates while preserving order\n",
        "    result = [x for x in lst if not (x in seen or seen.add(x))]\n",
        "\n",
        "    return result\n",
        "\n",
        "# Test the function\n",
        "my_list = [1, 2, 2, 3, 4, 4, 5, 1]\n",
        "print(remove_duplicates(my_list))  # Output: [1, 2, 3, 4, 5]\n"
      ]
    },
    {
      "cell_type": "markdown",
      "id": "95da2a09-9e84-44a9-8fd0-02f4e6e1c380",
      "metadata": {
        "id": "95da2a09-9e84-44a9-8fd0-02f4e6e1c380"
      },
      "source": [
        "#### Q16. Create a code to check if a given list is sorted (either in ascending or descending order) or not.\n"
      ]
    },
    {
      "cell_type": "code",
      "execution_count": null,
      "id": "9b8bf069-acb6-4002-9da8-a6f0869d5519",
      "metadata": {
        "id": "9b8bf069-acb6-4002-9da8-a6f0869d5519",
        "outputId": "fd5fbdfa-b835-44fc-cb8b-187894592dce"
      },
      "outputs": [
        {
          "name": "stdout",
          "output_type": "stream",
          "text": [
            "True\n",
            "True\n",
            "False\n"
          ]
        }
      ],
      "source": [
        "def is_sorted(lst):\n",
        "    # Check if the list is empty or has only one element (trivially sorted)\n",
        "    if len(lst) <= 1:\n",
        "        return True\n",
        "\n",
        "    # Check if the list is sorted in ascending order\n",
        "    ascending = all(lst[i] <= lst[i+1] for i in range(len(lst)-1))\n",
        "\n",
        "    # Check if the list is sorted in descending order\n",
        "    descending = all(lst[i] >= lst[i+1] for i in range(len(lst)-1))\n",
        "\n",
        "    # Return True if either ascending or descending, else False\n",
        "    return ascending or descending\n",
        "\n",
        "# Test the function\n",
        "my_list1 = [1, 2, 3, 4, 5]\n",
        "my_list2 = [5, 4, 3, 2, 1]\n",
        "my_list3 = [1, 3, 2, 4, 5]\n",
        "\n",
        "print(is_sorted(my_list1))  # Output: True (Ascending)\n",
        "print(is_sorted(my_list2))  # Output: True (Descending)\n",
        "print(is_sorted(my_list3))  # Output: False (Not sorted)\n"
      ]
    },
    {
      "cell_type": "markdown",
      "id": "8b1f8801-3f00-42f8-bb09-32f48d6fecb7",
      "metadata": {
        "id": "8b1f8801-3f00-42f8-bb09-32f48d6fecb7"
      },
      "source": [
        "#### Q17. Write a code to merge two sorted lists into a single sorted list."
      ]
    },
    {
      "cell_type": "code",
      "execution_count": null,
      "id": "432e572f-879d-45d5-b2e9-dd3630739d93",
      "metadata": {
        "id": "432e572f-879d-45d5-b2e9-dd3630739d93",
        "outputId": "638ab8e4-4b16-4def-b6d8-fb3ab5311154"
      },
      "outputs": [
        {
          "name": "stdout",
          "output_type": "stream",
          "text": [
            "[1, 2, 3, 4, 5, 6, 7, 8]\n"
          ]
        }
      ],
      "source": [
        "def merge_sorted_lists(list1, list2):\n",
        "    # Initialize pointers for both lists and an empty result list\n",
        "    i, j = 0, 0\n",
        "    merged_list = []\n",
        "\n",
        "    # Compare elements from both lists and add the smaller element to the merged list\n",
        "    while i < len(list1) and j < len(list2):\n",
        "        if list1[i] < list2[j]:\n",
        "            merged_list.append(list1[i])\n",
        "            i += 1\n",
        "        else:\n",
        "            merged_list.append(list2[j])\n",
        "            j += 1\n",
        "\n",
        "    # Add any remaining elements from list1\n",
        "    while i < len(list1):\n",
        "        merged_list.append(list1[i])\n",
        "        i += 1\n",
        "\n",
        "    # Add any remaining elements from list2\n",
        "    while j < len(list2):\n",
        "        merged_list.append(list2[j])\n",
        "        j += 1\n",
        "\n",
        "    return merged_list\n",
        "\n",
        "# Test the function\n",
        "list1 = [1, 3, 5, 7]\n",
        "list2 = [2, 4, 6, 8]\n",
        "print(merge_sorted_lists(list1, list2))  # Output: [1, 2, 3, 4, 5, 6, 7, 8]\n"
      ]
    },
    {
      "cell_type": "markdown",
      "id": "0d21969c-bc26-42a8-b338-b54d4c736188",
      "metadata": {
        "id": "0d21969c-bc26-42a8-b338-b54d4c736188"
      },
      "source": [
        "#### Q18. Implement a code to find the intersection of two given lists."
      ]
    },
    {
      "cell_type": "code",
      "execution_count": null,
      "id": "160691ee-de22-4607-99b1-fbe9e0e95ff5",
      "metadata": {
        "id": "160691ee-de22-4607-99b1-fbe9e0e95ff5",
        "outputId": "24aa01b9-d43f-4444-ed21-12cc90a3ad69"
      },
      "outputs": [
        {
          "name": "stdout",
          "output_type": "stream",
          "text": [
            "[4, 5]\n"
          ]
        }
      ],
      "source": [
        "def intersection_of_lists(list1, list2):\n",
        "    # Convert both lists to sets to remove duplicates and perform intersection\n",
        "    set1 = set(list1)\n",
        "    set2 = set(list2)\n",
        "\n",
        "    # Find the intersection of both sets and convert it back to a list\n",
        "    intersection = list(set1 & set2)\n",
        "\n",
        "    return intersection\n",
        "\n",
        "# Test the function\n",
        "list1 = [1, 2, 3, 4, 5]\n",
        "list2 = [4, 5, 6, 7]\n",
        "print(intersection_of_lists(list1, list2))  # Output: [4, 5]\n"
      ]
    },
    {
      "cell_type": "markdown",
      "id": "b5cedd87-1f3f-479d-9770-b7231772dffc",
      "metadata": {
        "id": "b5cedd87-1f3f-479d-9770-b7231772dffc"
      },
      "source": [
        "#### Q19. Create a code to find the union of two lists without duplicates."
      ]
    },
    {
      "cell_type": "code",
      "execution_count": null,
      "id": "b8dadbca-6aa8-4175-b3b6-31aa4db7ac75",
      "metadata": {
        "id": "b8dadbca-6aa8-4175-b3b6-31aa4db7ac75",
        "outputId": "4acae974-3dc4-4c0a-8d62-5c46587dddd2"
      },
      "outputs": [
        {
          "name": "stdout",
          "output_type": "stream",
          "text": [
            "[1, 2, 3, 4, 5, 6, 7]\n"
          ]
        }
      ],
      "source": [
        "def union_of_lists(list1, list2):\n",
        "    # Convert both lists to sets to remove duplicates, and then take the union\n",
        "    return list(set(list1) | set(list2))\n",
        "\n",
        "# Test the function\n",
        "list1 = [1, 2, 3, 4, 5]\n",
        "list2 = [4, 5, 6, 7]\n",
        "print(union_of_lists(list1, list2))  # Output: [1, 2, 3, 4, 5, 6, 7]\n"
      ]
    },
    {
      "cell_type": "markdown",
      "id": "3b4b5712-e45a-4353-be90-43251837eb42",
      "metadata": {
        "id": "3b4b5712-e45a-4353-be90-43251837eb42"
      },
      "source": [
        "#### Q20. Write a code to shuffle a given list randomly without using any built-in shuffle functions."
      ]
    },
    {
      "cell_type": "code",
      "execution_count": null,
      "id": "d2dc91d9-d24a-433a-afb4-9b55e00e9763",
      "metadata": {
        "id": "d2dc91d9-d24a-433a-afb4-9b55e00e9763",
        "outputId": "a5150359-4a47-4e2f-9058-212739520fef"
      },
      "outputs": [
        {
          "name": "stdout",
          "output_type": "stream",
          "text": [
            "[5, 3, 4, 2, 1]\n"
          ]
        }
      ],
      "source": [
        "import random\n",
        "\n",
        "def shuffle_list(lst):\n",
        "    # Get the length of the list\n",
        "    n = len(lst)\n",
        "\n",
        "    # Shuffle the list by swapping each element with a random element\n",
        "    for i in range(n):\n",
        "        # Pick a random index from the remaining unshuffled part\n",
        "        random_index = random.randint(i, n - 1)\n",
        "\n",
        "        # Swap the elements at index i and random_index\n",
        "        lst[i], lst[random_index] = lst[random_index], lst[i]\n",
        "\n",
        "    return lst\n",
        "\n",
        "# Test the function\n",
        "my_list = [1, 2, 3, 4, 5]\n",
        "shuffled_list = shuffle_list(my_list)\n",
        "print(shuffled_list)\n"
      ]
    },
    {
      "cell_type": "markdown",
      "id": "de3a567b-0534-479f-8028-fe5b2eff14ce",
      "metadata": {
        "id": "de3a567b-0534-479f-8028-fe5b2eff14ce"
      },
      "source": [
        "#### Q21. Write a code that takes two tuples as input and returns a new tuple containing elements that are common to both input tuples.\u0012"
      ]
    },
    {
      "cell_type": "code",
      "execution_count": null,
      "id": "1f11bae8-5ae9-4a27-a260-2e9f3686d13c",
      "metadata": {
        "id": "1f11bae8-5ae9-4a27-a260-2e9f3686d13c",
        "outputId": "4b9738af-dfd9-426e-8c2e-321a697db6f2"
      },
      "outputs": [
        {
          "name": "stdout",
          "output_type": "stream",
          "text": [
            "(4, 5)\n"
          ]
        }
      ],
      "source": [
        "def common_elements(tuple1, tuple2):\n",
        "    # Convert tuples to sets to find the intersection and then convert back to a tuple\n",
        "    common = tuple(set(tuple1) & set(tuple2))\n",
        "    return common\n",
        "\n",
        "# Test the function\n",
        "tuple1 = (1, 2, 3, 4, 5)\n",
        "tuple2 = (4, 5, 6, 7)\n",
        "print(common_elements(tuple1, tuple2))  # Output: (4, 5)\n"
      ]
    },
    {
      "cell_type": "markdown",
      "id": "8e7cdfae-0fa6-4298-b6a7-06599cebcef1",
      "metadata": {
        "id": "8e7cdfae-0fa6-4298-b6a7-06599cebcef1"
      },
      "source": [
        "#### Q22. Create a code that prompts the user to enter two sets of integers separated by commas. Then, print the intersection of these two sets\u0012"
      ]
    },
    {
      "cell_type": "code",
      "execution_count": null,
      "id": "6841e4c5-39ff-4388-a42b-9c3378b170ea",
      "metadata": {
        "id": "6841e4c5-39ff-4388-a42b-9c3378b170ea",
        "outputId": "2cb356a6-36cb-41f6-bb26-ac8ca2c3d35a"
      },
      "outputs": [
        {
          "name": "stdin",
          "output_type": "stream",
          "text": [
            "Enter the first set of integers separated by commas:  2,3,4,5\n",
            "Enter the second set of integers separated by commas:  3,4,5,6\n"
          ]
        },
        {
          "name": "stdout",
          "output_type": "stream",
          "text": [
            "The intersection of the two sets is: {3, 4, 5}\n"
          ]
        }
      ],
      "source": [
        "def get_set_input(prompt):\n",
        "    # Prompt user to enter a set of integers separated by commas\n",
        "    user_input = input(prompt)\n",
        "    # Convert the input string to a list of integers and then to a set\n",
        "    return set(map(int, user_input.split(',')))\n",
        "\n",
        "def print_intersection_of_sets():\n",
        "    # Get two sets of integers from the user\n",
        "    set1 = get_set_input(\"Enter the first set of integers separated by commas: \")\n",
        "    set2 = get_set_input(\"Enter the second set of integers separated by commas: \")\n",
        "\n",
        "    # Find the intersection of the two sets\n",
        "    intersection = set1 & set2\n",
        "\n",
        "    # Print the intersection\n",
        "    print(\"The intersection of the two sets is:\", intersection)\n",
        "\n",
        "# Call the function\n",
        "print_intersection_of_sets()\n"
      ]
    },
    {
      "cell_type": "markdown",
      "id": "63844b8e-b4b4-4d2d-a723-d5b200b74d7e",
      "metadata": {
        "id": "63844b8e-b4b4-4d2d-a723-d5b200b74d7e"
      },
      "source": [
        "#### Q23. Write a code to concatenate two tuples. The function should take two tuples as input and return a new tuple containing elements from both input tuples.."
      ]
    },
    {
      "cell_type": "code",
      "execution_count": null,
      "id": "14868206-1607-417c-8f83-bfe00a2df8b7",
      "metadata": {
        "id": "14868206-1607-417c-8f83-bfe00a2df8b7",
        "outputId": "2c6f501a-624f-4101-a923-3977b373e106"
      },
      "outputs": [
        {
          "name": "stdout",
          "output_type": "stream",
          "text": [
            "(1, 2, 3, 4, 5, 6)\n"
          ]
        }
      ],
      "source": [
        "def concatenate_tuples(tuple1, tuple2):\n",
        "    # Concatenate the two tuples using the '+' operator\n",
        "    return tuple1 + tuple2\n",
        "\n",
        "# Test the function\n",
        "tuple1 = (1, 2, 3)\n",
        "tuple2 = (4, 5, 6)\n",
        "result = concatenate_tuples(tuple1, tuple2)\n",
        "print(result)  # Output: (1, 2, 3, 4, 5, 6)\n"
      ]
    },
    {
      "cell_type": "markdown",
      "id": "3ff124e9-b16f-4f19-b01e-462844552736",
      "metadata": {
        "id": "3ff124e9-b16f-4f19-b01e-462844552736"
      },
      "source": [
        "#### Q24. Develop a code that prompts the user to input two sets of strings. Then, print the elements that are present in the first set but not in the second set.&"
      ]
    },
    {
      "cell_type": "code",
      "execution_count": null,
      "id": "54e2735f-cd89-4d3d-954a-6ba9156a1d3a",
      "metadata": {
        "id": "54e2735f-cd89-4d3d-954a-6ba9156a1d3a",
        "outputId": "4ef3f90c-7cb3-4973-f314-af2f409b3213"
      },
      "outputs": [
        {
          "name": "stdin",
          "output_type": "stream",
          "text": [
            "Enter the first set of strings separated by commas:  OM,NAMAH,SHIVAY\n",
            "Enter the second set of strings separated by commas:  HARI,OM\n"
          ]
        },
        {
          "name": "stdout",
          "output_type": "stream",
          "text": [
            "The elements present in the first set but not in the second set are: {'NAMAH', 'SHIVAY'}\n"
          ]
        }
      ],
      "source": [
        "def get_set_input(prompt):\n",
        "    # Prompt the user to enter a set of strings separated by commas\n",
        "    user_input = input(prompt)\n",
        "    # Convert the input string to a list of strings and then to a set\n",
        "    return set(user_input.split(','))\n",
        "\n",
        "def print_difference_of_sets():\n",
        "    # Get two sets of strings from the user\n",
        "    set1 = get_set_input(\"Enter the first set of strings separated by commas: \")\n",
        "    set2 = get_set_input(\"Enter the second set of strings separated by commas: \")\n",
        "\n",
        "    # Find the elements in the first set but not in the second set\n",
        "    difference = set1 - set2\n",
        "\n",
        "    # Print the result\n",
        "    print(\"The elements present in the first set but not in the second set are:\", difference)\n",
        "\n",
        "# Call the function\n",
        "print_difference_of_sets()\n"
      ]
    },
    {
      "cell_type": "markdown",
      "id": "87851166-06f7-4e3d-9214-6eb9e05a0edc",
      "metadata": {
        "id": "87851166-06f7-4e3d-9214-6eb9e05a0edc"
      },
      "source": [
        "#### Q25. Create a code that takes a tuple and two integers as input. The function should return a new tuple containing elements from the original tuple within the specified range of indices.\n"
      ]
    },
    {
      "cell_type": "code",
      "execution_count": null,
      "id": "de57fb54-d47c-4cda-b51d-0c7b910a4427",
      "metadata": {
        "id": "de57fb54-d47c-4cda-b51d-0c7b910a4427",
        "outputId": "8453a5bc-55f0-4447-d5e4-5501e431ea9c"
      },
      "outputs": [
        {
          "name": "stdout",
          "output_type": "stream",
          "text": [
            "(20, 30, 40)\n"
          ]
        }
      ],
      "source": [
        "def slice_tuple(original_tuple, start_index, end_index):\n",
        "    return original_tuple[start_index:end_index]\n",
        "\n",
        "my_tuple = (10, 20, 30, 40, 50, 60)\n",
        "start = 1\n",
        "end = 4\n",
        "new_tuple = slice_tuple(my_tuple, start, end)\n",
        "print(new_tuple)\n"
      ]
    },
    {
      "cell_type": "markdown",
      "id": "40a3664b-a220-4d29-b3a1-d310bf86e72b",
      "metadata": {
        "id": "40a3664b-a220-4d29-b3a1-d310bf86e72b"
      },
      "source": [
        "#### Q26. Write a code that prompts the user to input two sets of characters. Then, print the union of these two sets."
      ]
    },
    {
      "cell_type": "code",
      "execution_count": null,
      "id": "d6abf919-014c-435d-9d97-4e7117fac711",
      "metadata": {
        "id": "d6abf919-014c-435d-9d97-4e7117fac711",
        "outputId": "50aa21cf-48da-4825-fe39-c5618d8ce794"
      },
      "outputs": [
        {
          "name": "stdin",
          "output_type": "stream",
          "text": [
            "Enter the first set of characters:  JAI SHREE RAM\n",
            "Enter the second set of characters:  HAR HAR MAHADEV\n"
          ]
        },
        {
          "name": "stdout",
          "output_type": "stream",
          "text": [
            "The union of the two sets is: {'H', 'V', 'M', 'S', 'E', ' ', 'A', 'J', 'R', 'I', 'D'}\n"
          ]
        }
      ],
      "source": [
        "set1_input = input(\"Enter the first set of characters: \")\n",
        "set2_input = input(\"Enter the second set of characters: \")\n",
        "\n",
        "# Convert the input strings into sets of characters\n",
        "set1 = set(set1_input)\n",
        "set2 = set(set2_input)\n",
        "\n",
        "# Find the union of the two sets\n",
        "union_set = set1.union(set2)\n",
        "\n",
        "# Print the union of the two sets\n",
        "print(\"The union of the two sets is:\", union_set)\n"
      ]
    },
    {
      "cell_type": "markdown",
      "id": "90d3aae0-c2f0-4aae-8874-05b1119b3d69",
      "metadata": {
        "id": "90d3aae0-c2f0-4aae-8874-05b1119b3d69"
      },
      "source": [
        "#### Q27. Develop a code that takes a tuple of integers as input. The function should return the maximum and minimum values from the tuple using tuple unpacking"
      ]
    },
    {
      "cell_type": "code",
      "execution_count": null,
      "id": "5a43bbc0-c23d-4e8d-b427-c1b4eeb3a40e",
      "metadata": {
        "id": "5a43bbc0-c23d-4e8d-b427-c1b4eeb3a40e",
        "outputId": "63fd9b1e-54f5-4a7b-8565-a94d042f5010"
      },
      "outputs": [
        {
          "name": "stdout",
          "output_type": "stream",
          "text": [
            "Maximum value: 40, Minimum value: 5\n"
          ]
        }
      ],
      "source": [
        "def find_max_min(tup):\n",
        "    # Unpack the tuple to get the max and min values\n",
        "    max_val, min_val = max(tup), min(tup)\n",
        "\n",
        "    # Return a tuple containing the maximum and minimum values\n",
        "    return (max_val, min_val)\n",
        "\n",
        "# Example usage:\n",
        "my_tuple = (10, 20, 5, 40, 15)\n",
        "max_min = find_max_min(my_tuple)\n",
        "print(f\"Maximum value: {max_min[0]}, Minimum value: {max_min[1]}\")\n"
      ]
    },
    {
      "cell_type": "markdown",
      "id": "b283f1b6-5550-44f3-b1a7-cd560da11e4b",
      "metadata": {
        "id": "b283f1b6-5550-44f3-b1a7-cd560da11e4b"
      },
      "source": [
        "#### Q28. Create a code that defines two sets of integers. Then, print the union, intersection, and difference of these two sets"
      ]
    },
    {
      "cell_type": "code",
      "execution_count": null,
      "id": "224695c6-4f8b-47f0-b390-3883c469b99b",
      "metadata": {
        "id": "224695c6-4f8b-47f0-b390-3883c469b99b",
        "outputId": "7675588c-954a-42fe-aa29-1465ee99754d"
      },
      "outputs": [
        {
          "name": "stdout",
          "output_type": "stream",
          "text": [
            "Union of set1 and set2: {1, 2, 3, 4, 5, 6, 7, 8}\n",
            "Intersection of set1 and set2: {4, 5}\n",
            "Difference (set1 - set2): {1, 2, 3}\n"
          ]
        }
      ],
      "source": [
        "# Define two sets of integers\n",
        "set1 = {1, 2, 3, 4, 5}\n",
        "set2 = {4, 5, 6, 7, 8}\n",
        "\n",
        "# Find the union of the two sets\n",
        "union_set = set1.union(set2)\n",
        "\n",
        "# Find the intersection of the two sets\n",
        "intersection_set = set1.intersection(set2)\n",
        "\n",
        "# Find the difference of the two sets (set1 - set2)\n",
        "difference_set = set1.difference(set2)\n",
        "\n",
        "# Print the results\n",
        "print(f\"Union of set1 and set2: {union_set}\")\n",
        "print(f\"Intersection of set1 and set2: {intersection_set}\")\n",
        "print(f\"Difference (set1 - set2): {difference_set}\")\n"
      ]
    },
    {
      "cell_type": "markdown",
      "id": "d69df4d6-fe8c-4140-9ce1-e5b2c37c8038",
      "metadata": {
        "id": "d69df4d6-fe8c-4140-9ce1-e5b2c37c8038"
      },
      "source": [
        "#### Q29. Write a code that takes a tuple and an element as input. The function should return the count of occurrences of the given element in the tuple"
      ]
    },
    {
      "cell_type": "code",
      "execution_count": null,
      "id": "c10db2fe-cfc1-4450-b5d3-b438a79391ca",
      "metadata": {
        "id": "c10db2fe-cfc1-4450-b5d3-b438a79391ca",
        "outputId": "fd387640-4704-4286-95cb-e339e3b601e5"
      },
      "outputs": [
        {
          "name": "stdout",
          "output_type": "stream",
          "text": [
            "The element 20 appears 3 times in the tuple.\n"
          ]
        }
      ],
      "source": [
        "def count_element_in_tuple(tup, element):\n",
        "    # Use the count() method to get the number of occurrences of the element in the tuple\n",
        "    return tup.count(element)\n",
        "\n",
        "# Example usage:\n",
        "my_tuple = (10, 20, 30, 20, 40, 20, 50)\n",
        "element = 20\n",
        "count = count_element_in_tuple(my_tuple, element)\n",
        "print(f\"The element {element} appears {count} times in the tuple.\")\n"
      ]
    },
    {
      "cell_type": "markdown",
      "id": "b0e0efca-be1a-482a-84cc-dfc651167879",
      "metadata": {
        "id": "b0e0efca-be1a-482a-84cc-dfc651167879"
      },
      "source": [
        "#### Q30. Develop a code that prompts the user to input two sets of strings. Then, print the symmetric difference of these two sets"
      ]
    },
    {
      "cell_type": "code",
      "execution_count": null,
      "id": "7637be9a-49fe-4e02-92d8-1cb0531fc78a",
      "metadata": {
        "id": "7637be9a-49fe-4e02-92d8-1cb0531fc78a",
        "outputId": "fc9ece43-d46f-4534-e7c7-1c34bc82f2ef"
      },
      "outputs": [
        {
          "name": "stdin",
          "output_type": "stream",
          "text": [
            "Enter the first set of strings (separate each string by space):  Apple Banana Grape Jackfruit Papaya\n",
            "Enter the second set of strings (separate each string by space):  Berry Lemon Apple Grape \n"
          ]
        },
        {
          "name": "stdout",
          "output_type": "stream",
          "text": [
            "The symmetric difference of the two sets is: {'Berry', 'Lemon', 'Banana', 'Jackfruit', 'Papaya'}\n"
          ]
        }
      ],
      "source": [
        "# Prompt the user to input two sets of strings\n",
        "set1_input = input(\"Enter the first set of strings (separate each string by space): \").split()\n",
        "set2_input = input(\"Enter the second set of strings (separate each string by space): \").split()\n",
        "\n",
        "# Convert the input lists into sets\n",
        "set1 = set(set1_input)\n",
        "set2 = set(set2_input)\n",
        "\n",
        "# Find the symmetric difference of the two sets\n",
        "symmetric_diff = set1.symmetric_difference(set2)\n",
        "\n",
        "# Print the symmetric difference\n",
        "print(\"The symmetric difference of the two sets is:\", symmetric_diff)\n"
      ]
    },
    {
      "cell_type": "markdown",
      "id": "5bc44223-9379-4055-9ca9-cf4dd0d1a90c",
      "metadata": {
        "id": "5bc44223-9379-4055-9ca9-cf4dd0d1a90c"
      },
      "source": [
        "#### Q31. Write a code that takes a list of words as input and returns a dictionary where the keys are unique words and the values are the frequencies of those words in the input list."
      ]
    },
    {
      "cell_type": "code",
      "execution_count": null,
      "id": "b7b0ba91-d6a4-418b-bde6-0095c4371095",
      "metadata": {
        "id": "b7b0ba91-d6a4-418b-bde6-0095c4371095",
        "outputId": "c94e2c0c-9e9b-4a7c-c3b4-ca210e9ab76b"
      },
      "outputs": [
        {
          "name": "stdin",
          "output_type": "stream",
          "text": [
            "Enter a list of words (separate each word by space):  Apple Banana Grapes Apple Banana\n"
          ]
        },
        {
          "name": "stdout",
          "output_type": "stream",
          "text": [
            "Word frequencies: {'Apple': 2, 'Banana': 2, 'Grapes': 1}\n"
          ]
        }
      ],
      "source": [
        "def word_frequencies(word_list):\n",
        "    # Create an empty dictionary to store word frequencies\n",
        "    frequency_dict = {}\n",
        "\n",
        "    # Loop through each word in the list\n",
        "    for word in word_list:\n",
        "        # If the word is already in the dictionary, increment its count\n",
        "        if word in frequency_dict:\n",
        "            frequency_dict[word] += 1\n",
        "        # If the word is not in the dictionary, add it with count 1\n",
        "        else:\n",
        "            frequency_dict[word] = 1\n",
        "\n",
        "    # Return the dictionary with word frequencies\n",
        "    return frequency_dict\n",
        "\n",
        "# Example usage:\n",
        "words_input = input(\"Enter a list of words (separate each word by space): \").split()\n",
        "result = word_frequencies(words_input)\n",
        "print(\"Word frequencies:\", result)\n"
      ]
    },
    {
      "cell_type": "markdown",
      "id": "57958ace-ead8-4aff-ba5e-02d751d7915d",
      "metadata": {
        "id": "57958ace-ead8-4aff-ba5e-02d751d7915d"
      },
      "source": [
        "#### Q32. Write a code that takes two dictionaries as input and merges them into a single dictionary. If there are common keys, the values should be added together"
      ]
    },
    {
      "cell_type": "code",
      "execution_count": null,
      "id": "a38e5fa1-41ee-4a31-8858-8dcce6731d63",
      "metadata": {
        "id": "a38e5fa1-41ee-4a31-8858-8dcce6731d63",
        "outputId": "9512c904-82fb-42e4-ce91-46524752f1e8"
      },
      "outputs": [
        {
          "name": "stdin",
          "output_type": "stream",
          "text": [
            "Enter the first dictionary (e.g., {'a': 1, 'b': 2}):  {'a': 1, 'b': 2}\n",
            "Enter the second dictionary (e.g., {'b': 3, 'c': 4}):  {'b': 3, 'c': 4}\n"
          ]
        },
        {
          "name": "stdout",
          "output_type": "stream",
          "text": [
            "Merged dictionary: {'a': 1, 'b': 5, 'c': 4}\n"
          ]
        }
      ],
      "source": [
        "def access_nested_dict(nested_dict, keys):\n",
        "    # Start by assigning the nested dictionary to a variable\n",
        "    current_value = nested_dict\n",
        "\n",
        "    # Iterate through each key in the list of keys\n",
        "    for key in keys:\n",
        "        # If the key exists in the current level, move to the next level\n",
        "        if key in current_value:\n",
        "            current_value = current_value[key]\n",
        "        else:\n",
        "            # If the key doesn't exist, return None\n",
        "            return None\n",
        "\n",
        "    # Return the final value if all keys are found\n",
        "    return current_value\n",
        "\n",
        "# Example usage:\n",
        "nested_dict_input = {\n",
        "    'a': {\n",
        "        'b': {\n",
        "            'c': 5\n",
        "        },\n",
        "        'd': 10\n",
        "    }\n",
        "}\n",
        "keys_input = ['a', 'b', 'c']  # List of keys to access the nested value\n",
        "result = access_nested_dict(nested_dict_input, keys_input)\n",
        "print(\"The value is:\", result)\n"
      ]
    },
    {
      "cell_type": "markdown",
      "id": "b47c65e6-db1a-44bf-b072-6faf67a0a247",
      "metadata": {
        "id": "b47c65e6-db1a-44bf-b072-6faf67a0a247"
      },
      "source": [
        "#### Q33. Write a code to access a value in a nested dictionary. The function should take the dictionary and a list of keys as input, and return the corresponding value. If any of the keys do not exist in the dictionary, the function should return None"
      ]
    },
    {
      "cell_type": "code",
      "execution_count": null,
      "id": "93fa699a-a55f-486c-b031-6830fec024b6",
      "metadata": {
        "id": "93fa699a-a55f-486c-b031-6830fec024b6",
        "outputId": "e141f1b3-8fe5-472c-b53f-db5f33c90163"
      },
      "outputs": [
        {
          "name": "stdout",
          "output_type": "stream",
          "text": [
            "The value is: 5\n"
          ]
        }
      ],
      "source": [
        "def access_nested_dict(nested_dict, keys):\n",
        "    # Start by assigning the nested dictionary to a variable\n",
        "    current_value = nested_dict\n",
        "\n",
        "    # Iterate through each key in the list of keys\n",
        "    for key in keys:\n",
        "        # If the key exists in the current level, move to the next level\n",
        "        if key in current_value:\n",
        "            current_value = current_value[key]\n",
        "        else:\n",
        "            # If the key doesn't exist, return None\n",
        "            return None\n",
        "\n",
        "    # Return the final value if all keys are found\n",
        "    return current_value\n",
        "\n",
        "\n",
        "keys_input = ['a', 'b', 'c']  # List of keys to access the nested value\n",
        "result = access_nested_dict(nested_dict_input, keys_input)\n",
        "print(\"The value is:\", result)\n"
      ]
    },
    {
      "cell_type": "markdown",
      "id": "f80caf30-2e90-40a5-9bba-a6fdd7d0f3fd",
      "metadata": {
        "id": "f80caf30-2e90-40a5-9bba-a6fdd7d0f3fd"
      },
      "source": [
        "#### Q34. Write a code that takes a dictionary as input and returns a sorted version of it based on the values. You can choose whether to sort in ascending or descending order"
      ]
    },
    {
      "cell_type": "code",
      "execution_count": null,
      "id": "05194b73-6a36-4602-b682-da094d2d06c7",
      "metadata": {
        "id": "05194b73-6a36-4602-b682-da094d2d06c7",
        "outputId": "a7c192d3-54b7-4ebf-c40c-4f1237a204f4"
      },
      "outputs": [
        {
          "name": "stdin",
          "output_type": "stream",
          "text": [
            "Enter 'asc' for ascending or 'desc' for descending order:  asc\n"
          ]
        },
        {
          "name": "stdout",
          "output_type": "stream",
          "text": [
            "Sorted dictionary: {'banana': 2, 'date': 3, 'apple': 5, 'cherry': 10}\n"
          ]
        }
      ],
      "source": [
        "def sort_dict_by_values(input_dict, descending=False):\n",
        "    # Sort the dictionary by values and return a new sorted dictionary\n",
        "    sorted_dict = dict(sorted(input_dict.items(), key=lambda item: item[1], reverse=descending))\n",
        "    return sorted_dict\n",
        "\n",
        "# Example usage:\n",
        "input_dict = {\n",
        "    'apple': 5,\n",
        "    'banana': 2,\n",
        "    'cherry': 10,\n",
        "    'date': 3\n",
        "}\n",
        "\n",
        "# Ask the user whether to sort in ascending or descending order\n",
        "order = input(\"Enter 'asc' for ascending or 'desc' for descending order: \").lower()\n",
        "\n",
        "# Call the function with the desired order\n",
        "if order == 'asc':\n",
        "    result = sort_dict_by_values(input_dict, descending=False)\n",
        "elif order == 'desc':\n",
        "    result = sort_dict_by_values(input_dict, descending=True)\n",
        "else:\n",
        "    print(\"Invalid input, defaulting to ascending.\")\n",
        "    result = sort_dict_by_values(input_dict, descending=False)\n",
        "\n",
        "print(\"Sorted dictionary:\", result)\n"
      ]
    },
    {
      "cell_type": "markdown",
      "id": "7a134e01-4335-4e3b-846a-1672a033a76d",
      "metadata": {
        "id": "7a134e01-4335-4e3b-846a-1672a033a76d"
      },
      "source": [
        "#### Q35. Write a code that inverts a dictionary, swapping keys and values. Ensure that the inverted dictionary correctly handles cases where multiple keys have the same value by storing the keys as a list in the inverted dictionary.."
      ]
    },
    {
      "cell_type": "code",
      "execution_count": null,
      "id": "3f07c629-32e7-4d5c-a4af-2f3d161041aa",
      "metadata": {
        "id": "3f07c629-32e7-4d5c-a4af-2f3d161041aa",
        "outputId": "f29cb7ab-10b5-4f63-dd3b-31a4c6b025d3"
      },
      "outputs": [
        {
          "name": "stdout",
          "output_type": "stream",
          "text": [
            "Inverted dictionary: {5: ['apple', 'cherry'], 2: ['banana', 'elderberry'], 3: ['date']}\n"
          ]
        }
      ],
      "source": [
        "def invert_dict(input_dict):\n",
        "    inverted_dict = {}\n",
        "\n",
        "    # Loop through each key-value pair in the original dictionary\n",
        "    for key, value in input_dict.items():\n",
        "        if value in inverted_dict:\n",
        "            # If the value is already a key in the inverted dictionary, append the current key to the list\n",
        "            inverted_dict[value].append(key)\n",
        "        else:\n",
        "            # Otherwise, create a new list with the current key as the first element\n",
        "            inverted_dict[value] = [key]\n",
        "\n",
        "    return inverted_dict\n",
        "\n",
        "# Example usage:\n",
        "input_dict = {\n",
        "    'apple': 5,\n",
        "    'banana': 2,\n",
        "    'cherry': 5,\n",
        "    'date': 3,\n",
        "    'elderberry': 2\n",
        "}\n",
        "\n",
        "result = invert_dict(input_dict)\n",
        "print(\"Inverted dictionary:\", result)\n"
      ]
    },
    {
      "cell_type": "code",
      "execution_count": null,
      "id": "59ffc70b-9761-42d6-9739-a0879b1ba06c",
      "metadata": {
        "id": "59ffc70b-9761-42d6-9739-a0879b1ba06c"
      },
      "outputs": [],
      "source": []
    }
  ],
  "metadata": {
    "kernelspec": {
      "display_name": "Python 3 (ipykernel)",
      "language": "python",
      "name": "python3"
    },
    "language_info": {
      "codemirror_mode": {
        "name": "ipython",
        "version": 3
      },
      "file_extension": ".py",
      "mimetype": "text/x-python",
      "name": "python",
      "nbconvert_exporter": "python",
      "pygments_lexer": "ipython3",
      "version": "3.12.4"
    },
    "colab": {
      "provenance": [],
      "include_colab_link": true
    }
  },
  "nbformat": 4,
  "nbformat_minor": 5
}