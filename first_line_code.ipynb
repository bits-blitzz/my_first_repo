{
  "nbformat": 4,
  "nbformat_minor": 0,
  "metadata": {
    "colab": {
      "provenance": [],
      "authorship_tag": "ABX9TyP7T4wkO3ypQ4qfWltvDkWu",
      "include_colab_link": true
    },
    "kernelspec": {
      "name": "python3",
      "display_name": "Python 3"
    },
    "language_info": {
      "name": "python"
    }
  },
  "cells": [
    {
      "cell_type": "markdown",
      "metadata": {
        "id": "view-in-github",
        "colab_type": "text"
      },
      "source": [
        "<a href=\"https://colab.research.google.com/github/bits-blitzz/my_first_repo/blob/main/first_line_code.ipynb\" target=\"_parent\"><img src=\"https://colab.research.google.com/assets/colab-badge.svg\" alt=\"Open In Colab\"/></a>"
      ]
    },
    {
      "cell_type": "code",
      "execution_count": null,
      "metadata": {
        "colab": {
          "base_uri": "https://localhost:8080/"
        },
        "id": "t1VFcZJSBN_O",
        "outputId": "4e66caa6-440b-4e08-9ad2-6e5f30968008"
      },
      "outputs": [
        {
          "output_type": "stream",
          "name": "stdout",
          "text": [
            "Shree Ganeshay Namah\n",
            "Jai Maa Sharde\n"
          ]
        }
      ],
      "source": [
        "print(\"Shree Ganeshay Namah\")\n",
        "print(\"Jai Maa Sharde\")"
      ]
    },
    {
      "cell_type": "code",
      "source": [],
      "metadata": {
        "id": "XpJPn-CqBje5"
      },
      "execution_count": null,
      "outputs": []
    }
  ]
}